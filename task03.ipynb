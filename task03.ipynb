{
 "cells": [
  {
   "cell_type": "markdown",
   "metadata": {},
   "source": [
    "# 特征工程"
   ]
  },
  {
   "cell_type": "code",
   "execution_count": 1,
   "metadata": {
    "collapsed": false
   },
   "outputs": [],
   "source": [
    "# import sys\n",
    "# sys.path.append('/home/aistudio/external-libraries')\n",
    "import warnings\n",
    "warnings.filterwarnings('ignore')\n",
    "import numpy as np\n",
    "import pandas as pd \n",
    "from matplotlib import pyplot as plt\n",
    "%matplotlib inline\n",
    "plt.rc('font', family='SimHei', size=13)\n",
    "import seaborn as sns\n",
    "\n",
    "import datetime\n",
    "from tqdm import tqdm\n",
    "from collections import defaultdict  \n",
    "\n",
    "from sklearn.preprocessing import LabelEncoder\n",
    "from sklearn.feature_selection import SelectKBest\n",
    "from sklearn.feature_selection import chi2\n",
    "from sklearn.preprocessing import MinMaxScaler\n",
    "import xgboost as xgb\n",
    "import lightgbm as lgb\n",
    "from sklearn.model_selection import StratifiedKFold, KFold\n",
    "from sklearn.metrics import accuracy_score, f1_score, roc_auc_score, log_loss\n",
    "\n",
    "import pickle as cPickle"
   ]
  },
  {
   "cell_type": "markdown",
   "metadata": {},
   "source": [
    "## 1. 读取数据"
   ]
  },
  {
   "cell_type": "code",
   "execution_count": 2,
   "metadata": {
    "collapsed": false
   },
   "outputs": [
    {
     "data": {
      "text/plain": [
       "(800000, 47, 200000, 48)"
      ]
     },
     "execution_count": 2,
     "metadata": {},
     "output_type": "execute_result"
    }
   ],
   "source": [
    "train = pd.read_csv('../source_data/train.csv')\n",
    "test = pd.read_csv('../source_data/testA.csv')\n",
    "train.shape + test.shape"
   ]
  },
  {
   "cell_type": "code",
   "execution_count": 3,
   "metadata": {
    "collapsed": false
   },
   "outputs": [],
   "source": [
    "numerical_features_train = list(train.select_dtypes(include=[np.number]).columns)\n",
    "categorical_features_train = list(train.select_dtypes(include=['object']).columns)\n",
    "\n",
    "numerical_features_test = list(test.select_dtypes(include=[np.number]).columns)\n",
    "categorical_features_test = list(test.select_dtypes(include=['object']).columns)"
   ]
  },
  {
   "cell_type": "markdown",
   "metadata": {},
   "source": [
    "## 2.过滤特征"
   ]
  },
  {
   "cell_type": "code",
   "execution_count": 4,
   "metadata": {
    "collapsed": false
   },
   "outputs": [
    {
     "name": "stdout",
     "output_type": "stream",
     "text": [
      "n2 and n2.1 = 1.00\n",
      "ficoRangeLow and ficoRangeHigh = 1.00\n",
      "openAcc and n10 = 1.00\n",
      "n2 and n9 = 0.98\n",
      "n2.1 and n9 = 0.98\n",
      "loanAmnt and installment = 0.95\n",
      "n5 and n8 = 0.84\n",
      "openAcc and n7 = 0.83\n",
      "n7 and n10 = 0.83\n",
      "n1 and n4 = 0.83\n",
      "n1 and n2 = 0.81\n",
      "n1 and n2.1 = 0.81\n",
      "n1 and n9 = 0.80\n",
      "n7 and n9 = 0.79\n",
      "n2 and n7 = 0.79\n",
      "n2.1 and n7 = 0.79\n",
      "n7 and n8 = 0.77\n",
      "totalAcc and n8 = 0.76\n",
      "n4 and n7 = 0.74\n",
      "n4 and n5 = 0.72\n",
      "openAcc and totalAcc = 0.70\n",
      "totalAcc and n10 = 0.70\n",
      "totalAcc and n6 = 0.68\n",
      "n2 and n4 = 0.66\n",
      "n2.1 and n4 = 0.66\n",
      "openAcc and n9 = 0.66\n",
      "n9 and n10 = 0.66\n",
      "delinquency_2years and n13 = 0.66\n",
      "openAcc and n2 = 0.66\n",
      "openAcc and n2.1 = 0.66\n",
      "n2 and n10 = 0.66\n",
      "n2.1 and n10 = 0.66\n",
      "n1 and n7 = 0.65\n",
      "openAcc and n8 = 0.65\n",
      "pubRec and pubRecBankruptcies = 0.64\n",
      "n8 and n10 = 0.64\n",
      "n4 and n9 = 0.64\n",
      "totalAcc and n5 = 0.62\n",
      "n5 and n7 = 0.62\n",
      "openAcc and n4 = 0.62\n",
      "n4 and n10 = 0.61\n",
      "n1 and n5 = 0.58\n",
      "n4 and n8 = 0.57\n",
      "n2 and n8 = 0.57\n",
      "n2.1 and n8 = 0.57\n",
      "n8 and n9 = 0.56\n",
      "totalAcc and n7 = 0.56\n",
      "openAcc and n1 = 0.54\n",
      "n1 and n10 = 0.54\n",
      "openAcc and n5 = 0.51\n",
      "n5 and n10 = 0.51\n"
     ]
    }
   ],
   "source": [
    "loan_numeric = train[numerical_features_train]\n",
    "corr = loan_numeric.corr()\n",
    "\n",
    "threshold = 0.5\n",
    "corr_list = []\n",
    "size = corr.shape[0]\n",
    "\n",
    "for i in range(0, size): \n",
    "    for j in range(i+1,size): \n",
    "        if (corr.iloc[i,j] >= threshold and corr.iloc[i,j] <= 1) or (corr.iloc[i,j] < 0 and corr.iloc[i,j] <= -threshold):\n",
    "            corr_list.append([corr.iloc[i,j],i,j]) \n",
    "          \n",
    "s_corr_list = sorted(corr_list,key=lambda x: -abs(x[0]))\n",
    "for v,i,j in s_corr_list:\n",
    "    print (\"%s and %s = %.2f\" % (numerical_features_train[i],numerical_features_train[j],v))"
   ]
  },
  {
   "cell_type": "code",
   "execution_count": 5,
   "metadata": {},
   "outputs": [
    {
     "name": "stdout",
     "output_type": "stream",
     "text": [
      "n2 and n2.1 = 1.00\n",
      "n2 and n2.2 = 1.00\n",
      "n2 and n2.3 = 1.00\n",
      "n2.1 and n2.2 = 1.00\n",
      "n2.1 and n2.3 = 1.00\n",
      "n2.2 and n2.3 = 1.00\n",
      "ficoRangeLow and ficoRangeHigh = 1.00\n",
      "openAcc and n10 = 1.00\n",
      "n2 and n9 = 0.98\n",
      "n2.1 and n9 = 0.98\n",
      "n2.2 and n9 = 0.98\n",
      "n2.3 and n9 = 0.98\n",
      "loanAmnt and installment = 0.95\n",
      "n5 and n8 = 0.84\n",
      "openAcc and n7 = 0.83\n",
      "n7 and n10 = 0.83\n",
      "n1 and n4 = 0.83\n",
      "n1 and n2 = 0.81\n",
      "n1 and n2.1 = 0.81\n",
      "n1 and n2.2 = 0.81\n",
      "n1 and n2.3 = 0.81\n",
      "n1 and n9 = 0.80\n",
      "n7 and n9 = 0.80\n",
      "n2 and n7 = 0.79\n",
      "n2.1 and n7 = 0.79\n",
      "n2.2 and n7 = 0.79\n",
      "n2.3 and n7 = 0.79\n",
      "n7 and n8 = 0.78\n",
      "totalAcc and n8 = 0.77\n",
      "n4 and n7 = 0.74\n",
      "n4 and n5 = 0.72\n",
      "openAcc and totalAcc = 0.70\n",
      "totalAcc and n10 = 0.70\n",
      "totalAcc and n6 = 0.68\n",
      "delinquency_2years and n13 = 0.67\n",
      "n2 and n4 = 0.66\n",
      "n2.1 and n4 = 0.66\n",
      "n2.2 and n4 = 0.66\n",
      "n2.3 and n4 = 0.66\n",
      "openAcc and n9 = 0.66\n",
      "n9 and n10 = 0.66\n",
      "openAcc and n2 = 0.66\n",
      "openAcc and n2.1 = 0.66\n",
      "openAcc and n2.2 = 0.66\n",
      "openAcc and n2.3 = 0.66\n",
      "n2 and n10 = 0.66\n",
      "n2.1 and n10 = 0.66\n",
      "n2.2 and n10 = 0.66\n",
      "n2.3 and n10 = 0.66\n",
      "n1 and n7 = 0.65\n",
      "pubRec and pubRecBankruptcies = 0.65\n",
      "openAcc and n8 = 0.65\n",
      "n8 and n10 = 0.64\n",
      "n4 and n9 = 0.64\n",
      "totalAcc and n5 = 0.63\n",
      "n5 and n7 = 0.62\n",
      "openAcc and n4 = 0.62\n",
      "n4 and n10 = 0.61\n",
      "n1 and n5 = 0.58\n",
      "n4 and n8 = 0.57\n",
      "n2 and n8 = 0.57\n",
      "n2.1 and n8 = 0.57\n",
      "n2.2 and n8 = 0.57\n",
      "n2.3 and n8 = 0.57\n",
      "n8 and n9 = 0.57\n",
      "totalAcc and n7 = 0.56\n",
      "openAcc and n1 = 0.54\n",
      "n1 and n10 = 0.54\n",
      "openAcc and n5 = 0.51\n",
      "n5 and n10 = 0.51\n"
     ]
    }
   ],
   "source": [
    "loan_numeric = test[numerical_features_test]\n",
    "corr = loan_numeric.corr()\n",
    "\n",
    "threshold = 0.5\n",
    "corr_list = []\n",
    "size = corr.shape[0]\n",
    "\n",
    "for i in range(0, size): \n",
    "    for j in range(i+1,size): \n",
    "        if (corr.iloc[i,j] >= threshold and corr.iloc[i,j] <= 1) or (corr.iloc[i,j] < 0 and corr.iloc[i,j] <= -threshold):\n",
    "            corr_list.append([corr.iloc[i,j],i,j]) \n",
    "          \n",
    "s_corr_list = sorted(corr_list,key=lambda x: -abs(x[0]))\n",
    "for v,i,j in s_corr_list:\n",
    "    print (\"%s and %s = %.2f\" % (numerical_features_test[i],numerical_features_test[j],v))"
   ]
  },
  {
   "cell_type": "markdown",
   "metadata": {},
   "source": [
    "从以上train和test的相关系数结果看出，n2、n2.1、n2.2和n2.3这四者的相关系数是1，所以考虑只保留n2；openAcc和n10的相关系数是1，去掉n10;\n",
    "n2和n9相关系数0.98，因此去掉n9, 再合并测试集和训练集做特征工程。"
   ]
  },
  {
   "cell_type": "code",
   "execution_count": 6,
   "metadata": {},
   "outputs": [
    {
     "data": {
      "text/plain": [
       "Index(['annualIncome', 'applicationType', 'delinquency_2years', 'dti',\n",
       "       'earliesCreditLine', 'employmentLength', 'employmentTitle',\n",
       "       'ficoRangeHigh', 'ficoRangeLow', 'grade', 'homeOwnership', 'id',\n",
       "       'initialListStatus', 'installment', 'interestRate', 'isDefault',\n",
       "       'issueDate', 'loanAmnt', 'n0', 'n1', 'n11', 'n12', 'n13', 'n14', 'n2',\n",
       "       'n4', 'n5', 'n6', 'n7', 'n8', 'openAcc', 'policyCode', 'postCode',\n",
       "       'pubRec', 'pubRecBankruptcies', 'purpose', 'regionCode', 'revolBal',\n",
       "       'revolUtil', 'subGrade', 'term', 'title', 'totalAcc',\n",
       "       'verificationStatus'],\n",
       "      dtype='object')"
      ]
     },
     "execution_count": 6,
     "metadata": {},
     "output_type": "execute_result"
    }
   ],
   "source": [
    "train.drop(['n2.1','n9','n10'], axis=1, inplace=True)\n",
    "test.drop(['n2.1','n2.2', 'n2.3','n9','n10'], axis=1, inplace=True)\n",
    "data = pd.concat([train, test], ignore_index=True)\n",
    "data.columns"
   ]
  },
  {
   "cell_type": "code",
   "execution_count": 7,
   "metadata": {},
   "outputs": [
    {
     "data": {
      "text/plain": [
       "(1000000, 44)"
      ]
     },
     "execution_count": 7,
     "metadata": {},
     "output_type": "execute_result"
    }
   ],
   "source": [
    "data.shape"
   ]
  },
  {
   "cell_type": "markdown",
   "metadata": {},
   "source": [
    "## 3. 处理缺失值"
   ]
  },
  {
   "cell_type": "code",
   "execution_count": 8,
   "metadata": {
    "collapsed": false
   },
   "outputs": [
    {
     "data": {
      "text/plain": [
       "dti                      300\n",
       "employmentLength       58541\n",
       "employmentTitle            1\n",
       "isDefault             200000\n",
       "n0                     50381\n",
       "n1                     50381\n",
       "n11                    87327\n",
       "n12                    50381\n",
       "n13                    50381\n",
       "n14                    50381\n",
       "n2                     50381\n",
       "n4                     41633\n",
       "n5                     50381\n",
       "n6                     50381\n",
       "n7                     50381\n",
       "n8                     50382\n",
       "postCode                   1\n",
       "pubRecBankruptcies       521\n",
       "revolUtil                658\n",
       "title                      1\n",
       "dtype: int64"
      ]
     },
     "execution_count": 8,
     "metadata": {},
     "output_type": "execute_result"
    }
   ],
   "source": [
    "missing = data.isnull().sum()\n",
    "missing = missing[missing > 0]\n",
    "missing.sort_values()\n",
    "missing"
   ]
  },
  {
   "cell_type": "code",
   "execution_count": 9,
   "metadata": {},
   "outputs": [],
   "source": [
    "numerical_features_all = list(data.select_dtypes(include=[np.number]).columns)\n",
    "categorical_features_all = list(data.select_dtypes(include=['object']).columns)"
   ]
  },
  {
   "cell_type": "code",
   "execution_count": 10,
   "metadata": {
    "collapsed": false
   },
   "outputs": [],
   "source": [
    "# 处理 employmentLength\n",
    "def employmentLength_to_int(s):\n",
    "    if pd.isnull(s):\n",
    "        return s\n",
    "    else:\n",
    "        return np.int8(s.split()[0])\n",
    "    \n",
    "data['employmentLength'].replace(to_replace='10+ years', value='10 years', inplace=True)\n",
    "data['employmentLength'].replace('< 1 year', '0 years', inplace=True)\n",
    "data['employmentLength'].value_counts(dropna=False).sort_index()   \n",
    "data['employmentLength'] = data['employmentLength'].apply(employmentLength_to_int)"
   ]
  },
  {
   "cell_type": "code",
   "execution_count": 11,
   "metadata": {},
   "outputs": [],
   "source": [
    "# 缺失值填充\n",
    "data['employmentLength'] = data['employmentLength'].fillna(data['employmentLength'].median())\n",
    "data[numerical_features_all] = data[numerical_features_all].fillna(data[numerical_features_all].median())"
   ]
  },
  {
   "cell_type": "markdown",
   "metadata": {},
   "source": [
    "## 3. 处理时间相关特征"
   ]
  },
  {
   "cell_type": "code",
   "execution_count": 12,
   "metadata": {
    "collapsed": false
   },
   "outputs": [],
   "source": [
    "# 处理issueDate\n",
    "data['issueDate'] = pd.to_datetime(data['issueDate'], format='%Y-%m-%d')\n",
    "startdate = datetime.datetime.strptime('2007-06-01', '%Y-%m-%d')\n",
    "data['issueDateDT'] = data['issueDate'].apply(lambda x: x-startdate).dt.days\n",
    "data['issueMonth'] = pd.to_datetime(data['issueDate']).dt.month\n",
    "data['issueYear'] = pd.to_datetime(data['issueDate']).dt.year\n",
    "\n",
    "# 处理earliesCreditLine\n",
    "dict_month = {'Jan': 1, 'Feb': 2, 'Mar': 3, 'Apr': 4, 'May': 5, 'Jun': 6, 'Jul': 7, 'Aug': 8, 'Sep': 9, 'Oct': 10, 'Nov': 11, \"Dec\": 12}\n",
    "data['earliesCredit_year'] = data['earliesCreditLine'].apply(lambda x: int(x[-4:]))\n",
    "data['earliesCredit_month'] = data['earliesCreditLine'].apply(lambda x : dict_month[x[:3]])\n",
    "data.drop('earliesCreditLine', axis=1, inplace=True)"
   ]
  },
  {
   "cell_type": "markdown",
   "metadata": {},
   "source": [
    "## 4. 处理异常值"
   ]
  },
  {
   "cell_type": "code",
   "execution_count": 13,
   "metadata": {
    "collapsed": false
   },
   "outputs": [],
   "source": [
    "# 封装了一个异常值处理的代码，可以随便调用。\n",
    "def outliers_proc(data, col_name, scale=3):\n",
    "    \"\"\"\n",
    "    用于清洗异常值，默认用 box_plot（scale=3）进行清洗\n",
    "    :param data: 接收 pandas 数据格式\n",
    "    :param col_name: pandas 列名\n",
    "    :param scale: 尺度\n",
    "    :return:\n",
    "    \"\"\"\n",
    "\n",
    "    def box_plot_outliers(data_ser, box_scale):\n",
    "        \"\"\"\n",
    "        利用箱线图去除异常值\n",
    "        :param data_ser: 接收 pandas.Series 数据格式\n",
    "        :param box_scale: 箱线图尺度，\n",
    "        :return:\n",
    "        \"\"\"\n",
    "        iqr = box_scale * (data_ser.quantile(0.75) - data_ser.quantile(0.25))\n",
    "        val_low = data_ser.quantile(0.25) - iqr\n",
    "        val_up = data_ser.quantile(0.75) + iqr\n",
    "        rule_low = (data_ser < val_low)\n",
    "        rule_up = (data_ser > val_up)\n",
    "        return (rule_low, rule_up), (val_low, val_up)\n",
    "\n",
    "    data_n = data.copy()\n",
    "    data_series = data_n[col_name]\n",
    "    rule, value = box_plot_outliers(data_series, box_scale=scale)\n",
    "    index = np.arange(data_series.shape[0])[rule[0] | rule[1]]\n",
    "    print(\"Delete number is: {}\".format(len(index)))\n",
    "    data_n = data_n.drop(index)\n",
    "    data_n.reset_index(drop=True, inplace=True)\n",
    "    print(\"Now column number is: {}\".format(data_n.shape[0]))\n",
    "    index_low = np.arange(data_series.shape[0])[rule[0]]\n",
    "    outliers = data_series.iloc[index_low]\n",
    "    print(\"Description of data less than the lower bound is:\")\n",
    "    print(pd.Series(outliers).describe())\n",
    "    index_up = np.arange(data_series.shape[0])[rule[1]]\n",
    "    outliers = data_series.iloc[index_up]\n",
    "    print(\"Description of data larger than the upper bound is:\")\n",
    "    print(pd.Series(outliers).describe())\n",
    "    \n",
    "    fig, ax = plt.subplots(1, 2, figsize=(10, 7))\n",
    "    sns.boxplot(y=data[col_name], data=data, palette=\"Set1\", ax=ax[0])\n",
    "    sns.boxplot(y=data_n[col_name], data=data_n, palette=\"Set1\", ax=ax[1])\n",
    "    return data_n\n",
    "\n",
    "# 删掉一些异常数据，但是要注意 test 的数据不能删\n",
    "# data = outliers_proc(data, 'revolBal', scale=3)"
   ]
  },
  {
   "cell_type": "markdown",
   "metadata": {},
   "source": [
    "## 5. 增加统计特征"
   ]
  },
  {
   "cell_type": "code",
   "execution_count": 14,
   "metadata": {},
   "outputs": [],
   "source": [
    "# LabelEncoder编码\n",
    "from sklearn.preprocessing import LabelEncoder\n",
    "encoder_list = ['grade', 'subGrade','employmentTitle', 'postCode', 'title','regionCode']\n",
    "for one in encoder_list:\n",
    "    encoder = LabelEncoder()\n",
    "    encoder.fit(data[one])\n",
    "    data[one] = encoder.transform(data[one])"
   ]
  },
  {
   "cell_type": "code",
   "execution_count": 15,
   "metadata": {},
   "outputs": [],
   "source": [
    "bin = [i*100 for i in range(1, 410, 10)]\n",
    "data['loanAmnt_bin'] = pd.cut(data['loanAmnt'], bin, labels=False)\n",
    "\n",
    "bin = [i for i in range(0, 34, 3)]\n",
    "data['interestRate_bin'] = pd.cut(data['interestRate'], bin, labels=False)\n",
    "\n",
    "max_income = data['annualIncome'].max()\n",
    "bin = [0, 10**3, 10**4, 5*(10**4), 10**5, 3*(10**5), 6*(10**5), 10**6, 3*(10**6), 6*(10**6), max_income+1]\n",
    "data['annualIncome_bin'] = pd.cut(data['annualIncome'], bin, labels=False, include_lowest=True, right=False)\n",
    "\n",
    "data['installment_bin'] = pd.cut(data['installment'], 40, labels=False)\n",
    "\n",
    "bin = [-1.0, 2.0, 5.0, 40]\n",
    "data['delinquency_2years_bin'] = pd.cut(data['delinquency_2years'], bin, labels=False)\n",
    "\n",
    "bin = [-1.1, 5, 10, 20, 30, 40, 50, 1000]\n",
    "data['dti_bin'] = pd.cut(data['dti'], bin, labels=False, include_lowest=True, right=False)\n",
    "\n",
    "def count_coding(df, features):\n",
    "    for col in features:\n",
    "        tmp = df.groupby([col]).count()['id'].to_dict()\n",
    "        df[col + '_count'] = data[col].apply(lambda x: tmp[x] if not np.isnan(x) else np.nan)\n",
    "    return df\n",
    "\n",
    "# def count_coding(df,fea_col):\n",
    "#     for fea in fea_col:\n",
    "#         df[fea + '_count'] = df[fea].map(df[fea].value_counts())\n",
    "#     return(df)\n",
    "        \n",
    "features_list = ['grade', 'subGrade','term', 'employmentLength',\n",
    "                 'loanAmnt_bin','interestRate_bin', 'annualIncome_bin', 'installment_bin',\n",
    "                 'delinquency_2years_bin','dti_bin']\n",
    "\n",
    "data = count_coding(data, features_list)"
   ]
  },
  {
   "cell_type": "markdown",
   "metadata": {},
   "source": [
    "## 6. 特征交叉"
   ]
  },
  {
   "cell_type": "code",
   "execution_count": 16,
   "metadata": {},
   "outputs": [],
   "source": [
    "# 对匿名特征做特征交叉\n",
    "n_features = [0,1,2,4,5,6,7,8,11,12,13,14]\n",
    "for i in n_features:\n",
    "    for j in n_features[i:]:\n",
    "        data['new' + str(i) + '+' + str(j)] = data['n' + str(i)] + data['n' + str(j)]\n",
    "        \n",
    "for i in n_features:\n",
    "    for j in n_features[i:]:\n",
    "        data['new' + str(i) + '*' + str(j)] = data['n' + str(i)] * data['n' + str(j)]        "
   ]
  },
  {
   "cell_type": "code",
   "execution_count": null,
   "metadata": {},
   "outputs": [],
   "source": [
    "import itertools\n",
    "\n",
    "corr = data.corr(method='spearman')\n",
    "feature_group = list(itertools.combinations(corr.columns, 2))\n",
    "print(feature_group)\n",
    "\n",
    "# 删除相关性高的变量\n",
    "def filter_corr(corr, cutoff=0.7):\n",
    "    cols = []\n",
    "    for i,j in feature_group:\n",
    "        if corr.loc[i, j] > cutoff:\n",
    "            print(i,j,corr.loc[i, j])\n",
    "            i_avg = corr[i][corr[i] != 1].mean()\n",
    "            j_avg = corr[j][corr[j] != 1].mean()\n",
    "            if i_avg >= j_avg:\n",
    "                cols.append(i)\n",
    "            else:\n",
    "                cols.append(j)\n",
    "    return set(cols)\n",
    "\n",
    "drop_cols = filter_corr(corr, cutoff=0.95)\n",
    "print(drop_cols)"
   ]
  },
  {
   "cell_type": "markdown",
   "metadata": {},
   "source": [
    "## 7. 特征编码"
   ]
  },
  {
   "cell_type": "code",
   "execution_count": 16,
   "metadata": {
    "collapsed": false
   },
   "outputs": [
    {
     "data": {
      "text/plain": [
       "Index(['annualIncome', 'applicationType', 'delinquency_2years', 'dti',\n",
       "       'employmentLength', 'employmentTitle', 'ficoRangeHigh', 'ficoRangeLow',\n",
       "       'grade', 'id', 'initialListStatus', 'installment', 'interestRate',\n",
       "       'isDefault', 'issueDate', 'loanAmnt', 'n0', 'n1', 'n11', 'n12', 'n13',\n",
       "       'n14', 'n2', 'n4', 'n5', 'n6', 'n7', 'n8', 'openAcc', 'policyCode',\n",
       "       'postCode', 'pubRec', 'pubRecBankruptcies', 'regionCode', 'revolBal',\n",
       "       'revolUtil', 'subGrade', 'term', 'title', 'totalAcc', 'issueDateDT',\n",
       "       'issueMonth', 'issueYear', 'earliesCredit_year', 'earliesCredit_month',\n",
       "       'loanAmnt_bin', 'interestRate_bin', 'annualIncome_bin',\n",
       "       'installment_bin', 'delinquency_2years_bin', 'dti_bin', 'grade_count',\n",
       "       'subGrade_count', 'term_count', 'employmentLength_count',\n",
       "       'loanAmnt_bin_count', 'interestRate_bin_count',\n",
       "       'annualIncome_bin_count', 'installment_bin_count',\n",
       "       'delinquency_2years_bin_count', 'dti_bin_count', 'homeOwnership_0',\n",
       "       'homeOwnership_1', 'homeOwnership_2', 'homeOwnership_3',\n",
       "       'homeOwnership_4', 'homeOwnership_5', 'verificationStatus_0',\n",
       "       'verificationStatus_1', 'verificationStatus_2', 'purpose_0',\n",
       "       'purpose_1', 'purpose_2', 'purpose_3', 'purpose_4', 'purpose_5',\n",
       "       'purpose_6', 'purpose_7', 'purpose_8', 'purpose_9', 'purpose_10',\n",
       "       'purpose_11', 'purpose_12', 'purpose_13'],\n",
       "      dtype='object')"
      ]
     },
     "execution_count": 16,
     "metadata": {},
     "output_type": "execute_result"
    }
   ],
   "source": [
    "# LabelEncoder编码\n",
    "# from sklearn.preprocessing import LabelEncoder\n",
    "# encoder_list = ['grade', 'subGrade','employmentTitle', 'postCode', 'title','regionCode']\n",
    "# for one in encoder_list:\n",
    "#     encoder = LabelEncoder()\n",
    "#     encoder.fit(data[one])\n",
    "#     data[one] = encoder.transform(data[one])\n",
    "    \n",
    "# 独热编码\n",
    "data = pd.get_dummies(data, columns=['homeOwnership', 'verificationStatus', 'purpose'])\n",
    "data.columns"
   ]
  },
  {
   "cell_type": "markdown",
   "metadata": {},
   "source": [
    "## 8、特征选择\n",
    "包裹式"
   ]
  },
  {
   "cell_type": "code",
   "execution_count": 23,
   "metadata": {},
   "outputs": [
    {
     "name": "stdout",
     "output_type": "stream",
     "text": [
      "<class 'pandas.core.frame.DataFrame'>\n",
      "RangeIndex: 1000000 entries, 0 to 999999\n",
      "Data columns (total 84 columns):\n",
      "annualIncome                    1000000 non-null float64\n",
      "applicationType                 1000000 non-null int64\n",
      "delinquency_2years              1000000 non-null float64\n",
      "dti                             1000000 non-null float64\n",
      "employmentLength                1000000 non-null float64\n",
      "employmentTitle                 1000000 non-null int64\n",
      "ficoRangeHigh                   1000000 non-null float64\n",
      "ficoRangeLow                    1000000 non-null float64\n",
      "grade                           1000000 non-null int64\n",
      "id                              1000000 non-null int64\n",
      "initialListStatus               1000000 non-null int64\n",
      "installment                     1000000 non-null float64\n",
      "interestRate                    1000000 non-null float64\n",
      "isDefault                       1000000 non-null float64\n",
      "issueDate                       1000000 non-null datetime64[ns]\n",
      "loanAmnt                        1000000 non-null float64\n",
      "n0                              1000000 non-null float64\n",
      "n1                              1000000 non-null float64\n",
      "n11                             1000000 non-null float64\n",
      "n12                             1000000 non-null float64\n",
      "n13                             1000000 non-null float64\n",
      "n14                             1000000 non-null float64\n",
      "n2                              1000000 non-null float64\n",
      "n4                              1000000 non-null float64\n",
      "n5                              1000000 non-null float64\n",
      "n6                              1000000 non-null float64\n",
      "n7                              1000000 non-null float64\n",
      "n8                              1000000 non-null float64\n",
      "openAcc                         1000000 non-null float64\n",
      "policyCode                      1000000 non-null float64\n",
      "postCode                        1000000 non-null int64\n",
      "pubRec                          1000000 non-null float64\n",
      "pubRecBankruptcies              1000000 non-null float64\n",
      "regionCode                      1000000 non-null int64\n",
      "revolBal                        1000000 non-null float64\n",
      "revolUtil                       1000000 non-null float64\n",
      "subGrade                        1000000 non-null int64\n",
      "term                            1000000 non-null int64\n",
      "title                           1000000 non-null int64\n",
      "totalAcc                        1000000 non-null float64\n",
      "issueDateDT                     1000000 non-null int64\n",
      "issueMonth                      1000000 non-null int64\n",
      "issueYear                       1000000 non-null int64\n",
      "earliesCredit_year              1000000 non-null int64\n",
      "earliesCredit_month             1000000 non-null int64\n",
      "loanAmnt_bin                    1000000 non-null int64\n",
      "interestRate_bin                1000000 non-null int64\n",
      "annualIncome_bin                1000000 non-null int64\n",
      "installment_bin                 1000000 non-null int64\n",
      "delinquency_2years_bin          1000000 non-null int64\n",
      "dti_bin                         1000000 non-null int64\n",
      "grade_count                     1000000 non-null int64\n",
      "subGrade_count                  1000000 non-null int64\n",
      "term_count                      1000000 non-null int64\n",
      "employmentLength_count          1000000 non-null int64\n",
      "loanAmnt_bin_count              1000000 non-null int64\n",
      "interestRate_bin_count          1000000 non-null int64\n",
      "annualIncome_bin_count          1000000 non-null int64\n",
      "installment_bin_count           1000000 non-null int64\n",
      "delinquency_2years_bin_count    1000000 non-null int64\n",
      "dti_bin_count                   1000000 non-null int64\n",
      "homeOwnership_0                 1000000 non-null uint8\n",
      "homeOwnership_1                 1000000 non-null uint8\n",
      "homeOwnership_2                 1000000 non-null uint8\n",
      "homeOwnership_3                 1000000 non-null uint8\n",
      "homeOwnership_4                 1000000 non-null uint8\n",
      "homeOwnership_5                 1000000 non-null uint8\n",
      "verificationStatus_0            1000000 non-null uint8\n",
      "verificationStatus_1            1000000 non-null uint8\n",
      "verificationStatus_2            1000000 non-null uint8\n",
      "purpose_0                       1000000 non-null uint8\n",
      "purpose_1                       1000000 non-null uint8\n",
      "purpose_2                       1000000 non-null uint8\n",
      "purpose_3                       1000000 non-null uint8\n",
      "purpose_4                       1000000 non-null uint8\n",
      "purpose_5                       1000000 non-null uint8\n",
      "purpose_6                       1000000 non-null uint8\n",
      "purpose_7                       1000000 non-null uint8\n",
      "purpose_8                       1000000 non-null uint8\n",
      "purpose_9                       1000000 non-null uint8\n",
      "purpose_10                      1000000 non-null uint8\n",
      "purpose_11                      1000000 non-null uint8\n",
      "purpose_12                      1000000 non-null uint8\n",
      "purpose_13                      1000000 non-null uint8\n",
      "dtypes: datetime64[ns](1), float64(29), int64(31), uint8(23)\n",
      "memory usage: 487.3 MB\n"
     ]
    }
   ],
   "source": [
    "data.info()"
   ]
  },
  {
   "cell_type": "code",
   "execution_count": 24,
   "metadata": {},
   "outputs": [],
   "source": [
    "train = data[:train.shape[0]]\n",
    "X = train.drop(['isDefault','issueDate'], axis=1)\n",
    "y = train['isDefault']"
   ]
  },
  {
   "cell_type": "code",
   "execution_count": 25,
   "metadata": {},
   "outputs": [
    {
     "data": {
      "text/plain": [
       "('dti',\n",
       " 'ficoRangeHigh',\n",
       " 'n14',\n",
       " 'n2',\n",
       " 'subGrade',\n",
       " 'term',\n",
       " 'issueDateDT',\n",
       " 'annualIncome_bin',\n",
       " 'installment_bin',\n",
       " 'homeOwnership_0')"
      ]
     },
     "execution_count": 25,
     "metadata": {},
     "output_type": "execute_result"
    }
   ],
   "source": [
    "# k_feature 太大会很难跑，没服务器，所以放弃\n",
    "from mlxtend.feature_selection import SequentialFeatureSelector as SFS\n",
    "from sklearn.linear_model import LogisticRegression\n",
    "sfs = SFS(LogisticRegression(),\n",
    "           k_features=10,\n",
    "           forward=True,\n",
    "           floating=False,\n",
    "           scoring = 'roc_auc',\n",
    "           cv = 0)\n",
    "sfs.fit(X, y)\n",
    "sfs.k_feature_names_ "
   ]
  },
  {
   "cell_type": "code",
   "execution_count": 28,
   "metadata": {},
   "outputs": [
    {
     "name": "stdout",
     "output_type": "stream",
     "text": [
      "dict_keys(['explained_variance', 'r2', 'max_error', 'neg_median_absolute_error', 'neg_mean_absolute_error', 'neg_mean_squared_error', 'neg_mean_squared_log_error', 'accuracy', 'roc_auc', 'balanced_accuracy', 'average_precision', 'neg_log_loss', 'brier_score_loss', 'adjusted_rand_score', 'homogeneity_score', 'completeness_score', 'v_measure_score', 'mutual_info_score', 'adjusted_mutual_info_score', 'normalized_mutual_info_score', 'fowlkes_mallows_score', 'precision', 'precision_macro', 'precision_micro', 'precision_samples', 'precision_weighted', 'recall', 'recall_macro', 'recall_micro', 'recall_samples', 'recall_weighted', 'f1', 'f1_macro', 'f1_micro', 'f1_samples', 'f1_weighted', 'jaccard', 'jaccard_macro', 'jaccard_micro', 'jaccard_samples', 'jaccard_weighted'])\n"
     ]
    }
   ],
   "source": [
    "from sklearn import metrics\n",
    "print(metrics.SCORERS.keys())"
   ]
  },
  {
   "cell_type": "code",
   "execution_count": 26,
   "metadata": {},
   "outputs": [
    {
     "name": "stderr",
     "output_type": "stream",
     "text": [
      "findfont: Font family ['sans-serif'] not found. Falling back to DejaVu Sans.\n",
      "findfont: Font family ['sans-serif'] not found. Falling back to DejaVu Sans.\n"
     ]
    },
    {
     "data": {
      "image/png": "[encoded data removed]",
      "text/plain": [
       "<Figure size 432x288 with 1 Axes>"
      ]
     },
     "metadata": {
      "needs_background": "light"
     },
     "output_type": "display_data"
    }
   ],
   "source": [
    "# 画出来，可以看到边际效益\n",
    "from mlxtend.plotting import plot_sequential_feature_selection as plot_sfs\n",
    "import matplotlib.pyplot as plt\n",
    "fig1 = plot_sfs(sfs.get_metric_dict(), kind='std_dev')\n",
    "plt.grid()\n",
    "plt.show()"
   ]
  },
  {
   "cell_type": "markdown",
   "metadata": {},
   "source": [
    "嵌入式"
   ]
  },
  {
   "cell_type": "code",
   "execution_count": 28,
   "metadata": {},
   "outputs": [
    {
     "data": {
      "text/plain": [
       "15"
      ]
     },
     "execution_count": 28,
     "metadata": {},
     "output_type": "execute_result"
    }
   ],
   "source": [
    "from sklearn.feature_selection import SelectFromModel\n",
    "from sklearn.ensemble import GradientBoostingClassifier\n",
    "# GBDT作为基模型的特征选择\n",
    "sfm = SelectFromModel(GradientBoostingClassifier())\n",
    "sfm.fit(X, y)\n",
    "n_selected_feats = sfm.transform(X).shape[1]\n",
    "n_selected_feats"
   ]
  },
  {
   "cell_type": "markdown",
   "metadata": {},
   "source": [
    "## 9. 特征归一化"
   ]
  },
  {
   "cell_type": "code",
   "execution_count": 14,
   "metadata": {},
   "outputs": [],
   "source": [
    "label = 'isDefault'\n",
    "numerical_features_all.remove(label)\n",
    "\n",
    "# 划分数值型变量中的连续变量和离散型变量\n",
    "def get_numerical_serial_fea(data,feas):\n",
    "    numerical_serial_fea = []\n",
    "    numerical_noserial_fea = []\n",
    "    for fea in feas:\n",
    "        temp = data[fea].nunique()\n",
    "        if temp <= 10:\n",
    "            numerical_noserial_fea.append(fea)\n",
    "            continue\n",
    "        numerical_serial_fea.append(fea)\n",
    "    return numerical_serial_fea, numerical_noserial_fea\n",
    "\n",
    "numerical_serial_fea, numerical_noserial_fea = get_numerical_serial_fea(data, numerical_features_all)\n",
    "\n",
    "cate_features = ['grade', 'subGrade', 'employmentTitle', 'homeOwnership', 'verificationStatus', 'purpose', 'postCode', 'regionCode', \\\n",
    "                 'applicationType', 'initialListStatus', 'title', 'policyCode']\n",
    "for f in cate_features:\n",
    "    print(f, '类型数：', data[f].nunique())"
   ]
  },
  {
   "cell_type": "code",
   "execution_count": null,
   "metadata": {
    "collapsed": false
   },
   "outputs": [],
   "source": [
    "from sklearn.preprocessing import StandardScaler\n",
    "from sklearn.preprocessing import MinMaxScaler\n",
    "\n",
    "for col in numerical_serial_fea:\n",
    "    min_max_scaler = MinMaxScaler()\n",
    "    min_max_scaler.fit_transform(pd.DataFrame(data=data[col], columns=[col]))"
   ]
  },
  {
   "cell_type": "markdown",
   "metadata": {},
   "source": [
    "## 10. 保存处理好的特征"
   ]
  },
  {
   "cell_type": "code",
   "execution_count": null,
   "metadata": {
    "collapsed": false
   },
   "outputs": [],
   "source": [
    "train = data[:train.shape[0]]\n",
    "test = data[train.shape[0]:]\n",
    "train.to_csv('../train_data_v1.csv', index=False)\n",
    "test.to_csv('../test_data_v1.csv', index=False)"
   ]
  }
 ],
 "metadata": {
  "kernelspec": {
   "display_name": "Python 3",
   "language": "python",
   "name": "python3"
  },
  "language_info": {
   "codemirror_mode": {
    "name": "ipython",
    "version": 3
   },
   "file_extension": ".py",
   "mimetype": "text/x-python",
   "name": "python",
   "nbconvert_exporter": "python",
   "pygments_lexer": "ipython3",
   "version": "3.6.7"
  }
 },
 "nbformat": 4,
 "nbformat_minor": 2
}
