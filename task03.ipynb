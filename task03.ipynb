{
  "nbformat": 4,
  "nbformat_minor": 0,
  "metadata": {
    "kernelspec": {
      "display_name": "Python 3",
      "language": "python",
      "name": "python3"
    },
    "language_info": {
      "codemirror_mode": {
        "name": "ipython",
        "version": 3
      },
      "file_extension": ".py",
      "mimetype": "text/x-python",
      "name": "python",
      "nbconvert_exporter": "python",
      "pygments_lexer": "ipython3",
      "version": "3.6.7"
    },
    "colab": {
      "name": "task03.ipynb",
      "provenance": []
    }
  },
  "cells": [
    {
      "cell_type": "markdown",
      "metadata": {
        "id": "-sKCbfT9JQin",
        "colab_type": "text"
      },
      "source": [
        "# 特征工程"
      ]
    },
    {
      "cell_type": "code",
      "metadata": {
        "id": "QtTdG8efJQiq",
        "colab_type": "code",
        "colab": {}
      },
      "source": [
        "# import sys\n",
        "# sys.path.append('/home/aistudio/external-libraries')\n",
        "import warnings\n",
        "warnings.filterwarnings('ignore')\n",
        "import numpy as np\n",
        "import pandas as pd \n",
        "from matplotlib import pyplot as plt\n",
        "%matplotlib inline\n",
        "plt.rc('font', family='SimHei', size=13)\n",
        "import seaborn as sns\n",
        "\n",
        "import datetime\n",
        "from tqdm import tqdm\n",
        "from collections import defaultdict  \n",
        "\n",
        "from sklearn.preprocessing import LabelEncoder\n",
        "from sklearn.feature_selection import SelectKBest\n",
        "from sklearn.feature_selection import chi2\n",
        "from sklearn.preprocessing import MinMaxScaler\n",
        "import xgboost as xgb\n",
        "import lightgbm as lgb\n",
        "from sklearn.model_selection import StratifiedKFold, KFold\n",
        "from sklearn.metrics import accuracy_score, f1_score, roc_auc_score, log_loss\n",
        "\n",
        "import pickle as cPickle"
      ],
      "execution_count": 1,
      "outputs": []
    },
    {
      "cell_type": "markdown",
      "metadata": {
        "id": "aiN2KRRxJQiu",
        "colab_type": "text"
      },
      "source": [
        "## 1. 读取数据"
      ]
    },
    {
      "cell_type": "code",
      "metadata": {
        "id": "ydWWVgeYJQiv",
        "colab_type": "code",
        "colab": {
          "base_uri": "https://localhost:8080/",
          "height": 35
        },
        "outputId": "8cf75a2c-e4c6-4a81-e2b2-894a067815bf"
      },
      "source": [
        "train = pd.read_csv('./train.csv')\n",
        "test = pd.read_csv('./testA.csv')\n",
        "train.shape + test.shape"
      ],
      "execution_count": 2,
      "outputs": [
        {
          "output_type": "execute_result",
          "data": {
            "text/plain": [
              "(800000, 47, 200000, 46)"
            ]
          },
          "metadata": {
            "tags": []
          },
          "execution_count": 2
        }
      ]
    },
    {
      "cell_type": "code",
      "metadata": {
        "id": "uyUaCUsIJQiz",
        "colab_type": "code",
        "colab": {
          "base_uri": "https://localhost:8080/",
          "height": 872
        },
        "outputId": "b305c5f2-ebc1-42fa-b4e2-d7add2382fa4"
      },
      "source": [
        "numerical_features_train = list(train.select_dtypes(include=[np.number]).columns)\n",
        "categorical_features_train = list(train.select_dtypes(include=['object']).columns)\n",
        "\n",
        "numerical_features_test = list(test.select_dtypes(include=[np.number]).columns)\n",
        "categorical_features_test = list(test.select_dtypes(include=['object']).columns)\n",
        "numerical_features_test + [ \"////////\"  ]+ categorical_features_test"
      ],
      "execution_count": 3,
      "outputs": [
        {
          "output_type": "execute_result",
          "data": {
            "text/plain": [
              "['id',\n",
              " 'loanAmnt',\n",
              " 'term',\n",
              " 'interestRate',\n",
              " 'installment',\n",
              " 'employmentTitle',\n",
              " 'homeOwnership',\n",
              " 'annualIncome',\n",
              " 'verificationStatus',\n",
              " 'purpose',\n",
              " 'postCode',\n",
              " 'regionCode',\n",
              " 'dti',\n",
              " 'delinquency_2years',\n",
              " 'ficoRangeLow',\n",
              " 'ficoRangeHigh',\n",
              " 'openAcc',\n",
              " 'pubRec',\n",
              " 'pubRecBankruptcies',\n",
              " 'revolBal',\n",
              " 'revolUtil',\n",
              " 'totalAcc',\n",
              " 'initialListStatus',\n",
              " 'applicationType',\n",
              " 'title',\n",
              " 'policyCode',\n",
              " 'n0',\n",
              " 'n1',\n",
              " 'n2',\n",
              " 'n3',\n",
              " 'n4',\n",
              " 'n5',\n",
              " 'n6',\n",
              " 'n7',\n",
              " 'n8',\n",
              " 'n9',\n",
              " 'n10',\n",
              " 'n11',\n",
              " 'n12',\n",
              " 'n13',\n",
              " 'n14',\n",
              " '////////',\n",
              " 'grade',\n",
              " 'subGrade',\n",
              " 'employmentLength',\n",
              " 'issueDate',\n",
              " 'earliesCreditLine']"
            ]
          },
          "metadata": {
            "tags": []
          },
          "execution_count": 3
        }
      ]
    },
    {
      "cell_type": "markdown",
      "metadata": {
        "id": "zZOx8hYxJQi3",
        "colab_type": "text"
      },
      "source": [
        "## 2.过滤特征"
      ]
    },
    {
      "cell_type": "code",
      "metadata": {
        "id": "4h8PcV4_JQi4",
        "colab_type": "code",
        "colab": {
          "base_uri": "https://localhost:8080/",
          "height": 945
        },
        "outputId": "209eafc0-6b4e-43ac-cb3b-59a59863b424"
      },
      "source": [
        "loan_numeric = train[numerical_features_train]\n",
        "corr = loan_numeric.corr()\n",
        "\n",
        "threshold = 0.5\n",
        "corr_list = []\n",
        "size = corr.shape[0]\n",
        "\n",
        "for i in range(0, size): \n",
        "    for j in range(i+1,size): \n",
        "        if (corr.iloc[i,j] >= threshold and corr.iloc[i,j] <= 1) or (corr.iloc[i,j] < 0 and corr.iloc[i,j] <= -threshold):\n",
        "            corr_list.append([corr.iloc[i,j],i,j]) \n",
        "          \n",
        "s_corr_list = sorted(corr_list,key=lambda x: -abs(x[0]))\n",
        "for v,i,j in s_corr_list:\n",
        "    print (\"%s and %s = %.2f\" % (numerical_features_train[i],numerical_features_train[j],v))"
      ],
      "execution_count": 4,
      "outputs": [
        {
          "output_type": "stream",
          "text": [
            "n2 and n3 = 1.00\n",
            "ficoRangeLow and ficoRangeHigh = 1.00\n",
            "openAcc and n10 = 1.00\n",
            "n2 and n9 = 0.98\n",
            "n3 and n9 = 0.98\n",
            "loanAmnt and installment = 0.95\n",
            "n5 and n8 = 0.84\n",
            "openAcc and n7 = 0.83\n",
            "n7 and n10 = 0.83\n",
            "n1 and n4 = 0.83\n",
            "n1 and n2 = 0.81\n",
            "n1 and n3 = 0.81\n",
            "n1 and n9 = 0.80\n",
            "n7 and n9 = 0.79\n",
            "n2 and n7 = 0.79\n",
            "n3 and n7 = 0.79\n",
            "n7 and n8 = 0.77\n",
            "totalAcc and n8 = 0.76\n",
            "n4 and n7 = 0.74\n",
            "n4 and n5 = 0.72\n",
            "openAcc and totalAcc = 0.70\n",
            "totalAcc and n10 = 0.70\n",
            "totalAcc and n6 = 0.68\n",
            "n2 and n4 = 0.66\n",
            "n3 and n4 = 0.66\n",
            "openAcc and n9 = 0.66\n",
            "n9 and n10 = 0.66\n",
            "delinquency_2years and n13 = 0.66\n",
            "openAcc and n2 = 0.66\n",
            "openAcc and n3 = 0.66\n",
            "n2 and n10 = 0.66\n",
            "n3 and n10 = 0.66\n",
            "n1 and n7 = 0.65\n",
            "openAcc and n8 = 0.65\n",
            "pubRec and pubRecBankruptcies = 0.64\n",
            "n8 and n10 = 0.64\n",
            "n4 and n9 = 0.64\n",
            "totalAcc and n5 = 0.62\n",
            "n5 and n7 = 0.62\n",
            "openAcc and n4 = 0.62\n",
            "n4 and n10 = 0.61\n",
            "n1 and n5 = 0.58\n",
            "n4 and n8 = 0.57\n",
            "n2 and n8 = 0.57\n",
            "n3 and n8 = 0.57\n",
            "n8 and n9 = 0.56\n",
            "totalAcc and n7 = 0.56\n",
            "openAcc and n1 = 0.54\n",
            "n1 and n10 = 0.54\n",
            "openAcc and n5 = 0.51\n",
            "n5 and n10 = 0.51\n"
          ],
          "name": "stdout"
        }
      ]
    },
    {
      "cell_type": "code",
      "metadata": {
        "id": "-2wSHznCJQi-",
        "colab_type": "code",
        "colab": {}
      },
      "source": [
        "loan_numeric = test[numerical_features_test]\n",
        "corr = loan_numeric.corr()\n",
        "\n",
        "threshold = 0.5\n",
        "corr_list = []\n",
        "size = corr.shape[0]\n",
        "\n",
        "for i in range(0, size): \n",
        "    for j in range(i+1,size): \n",
        "        if (corr.iloc[i,j] >= threshold and corr.iloc[i,j] <= 1) or (corr.iloc[i,j] < 0 and corr.iloc[i,j] <= -threshold):\n",
        "            corr_list.append([corr.iloc[i,j],i,j]) \n",
        "          \n",
        "s_corr_list = sorted(corr_list,key=lambda x: -abs(x[0]))\n",
        "for v,i,j in s_corr_list:\n",
        "    print (\"%s and %s = %.2f\" % (numerical_features_test[i],numerical_features_test[j],v))"
      ],
      "execution_count": null,
      "outputs": []
    },
    {
      "cell_type": "markdown",
      "metadata": {
        "id": "DCUlAJfTJQjB",
        "colab_type": "text"
      },
      "source": [
        "从以上train和test的相关系数结果看出，openAcc和n10的相关系数是1，去掉n10;\n",
        "n2和n9相关系数0.98，因此去掉n9, 再合并测试集和训练集做特征工程。"
      ]
    },
    {
      "cell_type": "code",
      "metadata": {
        "id": "K8HTYouCJQjC",
        "colab_type": "code",
        "colab": {
          "base_uri": "https://localhost:8080/",
          "height": 199
        },
        "outputId": "89c6e4a9-49cb-4c62-8de4-bd246c2fce6d"
      },
      "source": [
        "train.drop([\"n9\"], axis=1, inplace=True)\n",
        "train.drop('n10', axis=1, inplace=True)\n",
        "test.drop(['n9','n10'], axis=1, inplace=True)\n",
        "data = pd.concat([train, test], ignore_index=True)\n",
        "data.columns\n"
      ],
      "execution_count": 6,
      "outputs": [
        {
          "output_type": "execute_result",
          "data": {
            "text/plain": [
              "Index(['id', 'loanAmnt', 'term', 'interestRate', 'installment', 'grade',\n",
              "       'subGrade', 'employmentTitle', 'employmentLength', 'homeOwnership',\n",
              "       'annualIncome', 'verificationStatus', 'issueDate', 'isDefault',\n",
              "       'purpose', 'postCode', 'regionCode', 'dti', 'delinquency_2years',\n",
              "       'ficoRangeLow', 'ficoRangeHigh', 'openAcc', 'pubRec',\n",
              "       'pubRecBankruptcies', 'revolBal', 'revolUtil', 'totalAcc',\n",
              "       'initialListStatus', 'applicationType', 'earliesCreditLine', 'title',\n",
              "       'policyCode', 'n0', 'n1', 'n2', 'n3', 'n4', 'n5', 'n6', 'n7', 'n8',\n",
              "       'n11', 'n12', 'n13', 'n14'],\n",
              "      dtype='object')"
            ]
          },
          "metadata": {
            "tags": []
          },
          "execution_count": 6
        }
      ]
    },
    {
      "cell_type": "code",
      "metadata": {
        "id": "18HB3_esObLt",
        "colab_type": "code",
        "colab": {
          "base_uri": "https://localhost:8080/",
          "height": 763
        },
        "outputId": "29599e29-018a-47ae-ce2d-c04a293fdf4d"
      },
      "source": [
        "numerical_features_test"
      ],
      "execution_count": 7,
      "outputs": [
        {
          "output_type": "execute_result",
          "data": {
            "text/plain": [
              "['id',\n",
              " 'loanAmnt',\n",
              " 'term',\n",
              " 'interestRate',\n",
              " 'installment',\n",
              " 'employmentTitle',\n",
              " 'homeOwnership',\n",
              " 'annualIncome',\n",
              " 'verificationStatus',\n",
              " 'purpose',\n",
              " 'postCode',\n",
              " 'regionCode',\n",
              " 'dti',\n",
              " 'delinquency_2years',\n",
              " 'ficoRangeLow',\n",
              " 'ficoRangeHigh',\n",
              " 'openAcc',\n",
              " 'pubRec',\n",
              " 'pubRecBankruptcies',\n",
              " 'revolBal',\n",
              " 'revolUtil',\n",
              " 'totalAcc',\n",
              " 'initialListStatus',\n",
              " 'applicationType',\n",
              " 'title',\n",
              " 'policyCode',\n",
              " 'n0',\n",
              " 'n1',\n",
              " 'n2',\n",
              " 'n3',\n",
              " 'n4',\n",
              " 'n5',\n",
              " 'n6',\n",
              " 'n7',\n",
              " 'n8',\n",
              " 'n9',\n",
              " 'n10',\n",
              " 'n11',\n",
              " 'n12',\n",
              " 'n13',\n",
              " 'n14']"
            ]
          },
          "metadata": {
            "tags": []
          },
          "execution_count": 7
        }
      ]
    },
    {
      "cell_type": "code",
      "metadata": {
        "id": "lCNNVAdMJQjG",
        "colab_type": "code",
        "colab": {
          "base_uri": "https://localhost:8080/",
          "height": 35
        },
        "outputId": "09084228-554a-43b6-eeb4-ad6df8c82b52"
      },
      "source": [
        "data.shape"
      ],
      "execution_count": 8,
      "outputs": [
        {
          "output_type": "execute_result",
          "data": {
            "text/plain": [
              "(1000000, 45)"
            ]
          },
          "metadata": {
            "tags": []
          },
          "execution_count": 8
        }
      ]
    },
    {
      "cell_type": "markdown",
      "metadata": {
        "id": "q8UJGQWCJQjM",
        "colab_type": "text"
      },
      "source": [
        "## 3. 处理缺失值"
      ]
    },
    {
      "cell_type": "code",
      "metadata": {
        "id": "yKdQ1B3SJQjM",
        "colab_type": "code",
        "colab": {
          "base_uri": "https://localhost:8080/",
          "height": 417
        },
        "outputId": "6e6be87d-545b-4ea2-9d4f-33d4c2e47bff"
      },
      "source": [
        "missing = data.isnull().sum()\n",
        "missing = missing[missing > 0]\n",
        "missing.sort_values()\n",
        "missing"
      ],
      "execution_count": 9,
      "outputs": [
        {
          "output_type": "execute_result",
          "data": {
            "text/plain": [
              "employmentTitle            1\n",
              "employmentLength       58541\n",
              "isDefault             200000\n",
              "postCode                   1\n",
              "dti                      300\n",
              "pubRecBankruptcies       521\n",
              "revolUtil                658\n",
              "title                      1\n",
              "n0                     50381\n",
              "n1                     50381\n",
              "n2                     50381\n",
              "n3                     50381\n",
              "n4                     41633\n",
              "n5                     50381\n",
              "n6                     50381\n",
              "n7                     50381\n",
              "n8                     50382\n",
              "n11                    87327\n",
              "n12                    50381\n",
              "n13                    50381\n",
              "n14                    50381\n",
              "dtype: int64"
            ]
          },
          "metadata": {
            "tags": []
          },
          "execution_count": 9
        }
      ]
    },
    {
      "cell_type": "code",
      "metadata": {
        "id": "blnSAWxFJQjQ",
        "colab_type": "code",
        "colab": {
          "base_uri": "https://localhost:8080/",
          "height": 35
        },
        "outputId": "1fc299cd-a547-4acd-c0e8-d5249d372839"
      },
      "source": [
        "numerical_features_all = list(data.select_dtypes(include=[np.number]).columns)\n",
        "categorical_features_all = list(data.select_dtypes(include=['object']).columns)\n",
        "# numerical_features_all\n",
        "categorical_features_all"
      ],
      "execution_count": 10,
      "outputs": [
        {
          "output_type": "execute_result",
          "data": {
            "text/plain": [
              "['grade', 'subGrade', 'employmentLength', 'issueDate', 'earliesCreditLine']"
            ]
          },
          "metadata": {
            "tags": []
          },
          "execution_count": 10
        }
      ]
    },
    {
      "cell_type": "code",
      "metadata": {
        "id": "1zNGr6N7JQjT",
        "colab_type": "code",
        "colab": {}
      },
      "source": [
        "# 处理 employmentLength\n",
        "def employmentLength_to_int(s):\n",
        "    if pd.isnull(s):\n",
        "        return s\n",
        "    else:\n",
        "        return np.int8(s.split()[0])\n",
        "    \n",
        "data['employmentLength'].replace(to_replace='10+ years', value='10 years', inplace=True)\n",
        "data['employmentLength'].replace('< 1 year', '0 years', inplace=True)\n",
        "data['employmentLength'].value_counts(dropna=False).sort_index()   \n",
        "data['employmentLength'] = data['employmentLength'].apply(employmentLength_to_int)"
      ],
      "execution_count": 11,
      "outputs": []
    },
    {
      "cell_type": "code",
      "metadata": {
        "id": "i2-xouY-JQjZ",
        "colab_type": "code",
        "colab": {}
      },
      "source": [
        "# 缺失值填充\n",
        "data['employmentLength'] = data['employmentLength'].fillna(data['employmentLength'].median())\n",
        "data[numerical_features_all] = data[numerical_features_all].fillna(data[numerical_features_all].median())"
      ],
      "execution_count": 12,
      "outputs": []
    },
    {
      "cell_type": "markdown",
      "metadata": {
        "id": "xliCU38tJQjh",
        "colab_type": "text"
      },
      "source": [
        "## 3. 处理时间相关特征"
      ]
    },
    {
      "cell_type": "code",
      "metadata": {
        "id": "WhViZLW1JQjh",
        "colab_type": "code",
        "colab": {}
      },
      "source": [
        "# 处理issueDate\n",
        "data['issueDate'] = pd.to_datetime(data['issueDate'], format='%Y-%m-%d')\n",
        "startdate = datetime.datetime.strptime('2007-06-01', '%Y-%m-%d')\n",
        "data['issueDateDT'] = data['issueDate'].apply(lambda x: x-startdate).dt.days\n",
        "data['issueMonth'] = pd.to_datetime(data['issueDate']).dt.month\n",
        "data['issueYear'] = pd.to_datetime(data['issueDate']).dt.year\n",
        "\n",
        "# 处理earliesCreditLine\n",
        "dict_month = {'Jan': 1, 'Feb': 2, 'Mar': 3, 'Apr': 4, 'May': 5, 'Jun': 6, 'Jul': 7, 'Aug': 8, 'Sep': 9, 'Oct': 10, 'Nov': 11, \"Dec\": 12}\n",
        "data['earliesCredit_year'] = data['earliesCreditLine'].apply(lambda x: int(x[-4:]))\n",
        "data['earliesCredit_month'] = data['earliesCreditLine'].apply(lambda x : dict_month[x[:3]])\n",
        "data.drop('earliesCreditLine', axis=1, inplace=True)"
      ],
      "execution_count": 13,
      "outputs": []
    },
    {
      "cell_type": "code",
      "metadata": {
        "id": "gjRhiqpaWIVq",
        "colab_type": "code",
        "colab": {
          "base_uri": "https://localhost:8080/",
          "height": 305
        },
        "outputId": "3d06fe30-087a-4e59-d3e9-011b2274007a"
      },
      "source": [
        "testpd = pd.read_csv('./testA.csv')\n",
        "data.head()"
      ],
      "execution_count": 17,
      "outputs": [
        {
          "output_type": "execute_result",
          "data": {
            "text/html": [
              "<div>\n",
              "<style scoped>\n",
              "    .dataframe tbody tr th:only-of-type {\n",
              "        vertical-align: middle;\n",
              "    }\n",
              "\n",
              "    .dataframe tbody tr th {\n",
              "        vertical-align: top;\n",
              "    }\n",
              "\n",
              "    .dataframe thead th {\n",
              "        text-align: right;\n",
              "    }\n",
              "</style>\n",
              "<table border=\"1\" class=\"dataframe\">\n",
              "  <thead>\n",
              "    <tr style=\"text-align: right;\">\n",
              "      <th></th>\n",
              "      <th>id</th>\n",
              "      <th>loanAmnt</th>\n",
              "      <th>term</th>\n",
              "      <th>interestRate</th>\n",
              "      <th>installment</th>\n",
              "      <th>grade</th>\n",
              "      <th>subGrade</th>\n",
              "      <th>employmentTitle</th>\n",
              "      <th>employmentLength</th>\n",
              "      <th>homeOwnership</th>\n",
              "      <th>annualIncome</th>\n",
              "      <th>verificationStatus</th>\n",
              "      <th>issueDate</th>\n",
              "      <th>isDefault</th>\n",
              "      <th>purpose</th>\n",
              "      <th>postCode</th>\n",
              "      <th>regionCode</th>\n",
              "      <th>dti</th>\n",
              "      <th>delinquency_2years</th>\n",
              "      <th>ficoRangeLow</th>\n",
              "      <th>ficoRangeHigh</th>\n",
              "      <th>openAcc</th>\n",
              "      <th>pubRec</th>\n",
              "      <th>pubRecBankruptcies</th>\n",
              "      <th>revolBal</th>\n",
              "      <th>revolUtil</th>\n",
              "      <th>totalAcc</th>\n",
              "      <th>initialListStatus</th>\n",
              "      <th>applicationType</th>\n",
              "      <th>title</th>\n",
              "      <th>policyCode</th>\n",
              "      <th>n0</th>\n",
              "      <th>n1</th>\n",
              "      <th>n2</th>\n",
              "      <th>n3</th>\n",
              "      <th>n4</th>\n",
              "      <th>n5</th>\n",
              "      <th>n6</th>\n",
              "      <th>n7</th>\n",
              "      <th>n8</th>\n",
              "      <th>n11</th>\n",
              "      <th>n12</th>\n",
              "      <th>n13</th>\n",
              "      <th>n14</th>\n",
              "      <th>issueDateDT</th>\n",
              "      <th>issueMonth</th>\n",
              "      <th>issueYear</th>\n",
              "      <th>earliesCredit_year</th>\n",
              "      <th>earliesCredit_month</th>\n",
              "    </tr>\n",
              "  </thead>\n",
              "  <tbody>\n",
              "    <tr>\n",
              "      <th>0</th>\n",
              "      <td>0</td>\n",
              "      <td>35000.0</td>\n",
              "      <td>5</td>\n",
              "      <td>19.52</td>\n",
              "      <td>917.97</td>\n",
              "      <td>E</td>\n",
              "      <td>E2</td>\n",
              "      <td>320.0</td>\n",
              "      <td>2.0</td>\n",
              "      <td>2</td>\n",
              "      <td>110000.0</td>\n",
              "      <td>2</td>\n",
              "      <td>2014-07-01</td>\n",
              "      <td>1.0</td>\n",
              "      <td>1</td>\n",
              "      <td>137.0</td>\n",
              "      <td>32</td>\n",
              "      <td>17.05</td>\n",
              "      <td>0.0</td>\n",
              "      <td>730.0</td>\n",
              "      <td>734.0</td>\n",
              "      <td>7.0</td>\n",
              "      <td>0.0</td>\n",
              "      <td>0.0</td>\n",
              "      <td>24178.0</td>\n",
              "      <td>48.9</td>\n",
              "      <td>27.0</td>\n",
              "      <td>0</td>\n",
              "      <td>0</td>\n",
              "      <td>1.0</td>\n",
              "      <td>1.0</td>\n",
              "      <td>0.0</td>\n",
              "      <td>2.0</td>\n",
              "      <td>2.0</td>\n",
              "      <td>2.0</td>\n",
              "      <td>4.0</td>\n",
              "      <td>9.0</td>\n",
              "      <td>8.0</td>\n",
              "      <td>4.0</td>\n",
              "      <td>12.0</td>\n",
              "      <td>0.0</td>\n",
              "      <td>0.0</td>\n",
              "      <td>0.0</td>\n",
              "      <td>2.0</td>\n",
              "      <td>2587</td>\n",
              "      <td>7</td>\n",
              "      <td>2014</td>\n",
              "      <td>2001</td>\n",
              "      <td>8</td>\n",
              "    </tr>\n",
              "    <tr>\n",
              "      <th>1</th>\n",
              "      <td>1</td>\n",
              "      <td>18000.0</td>\n",
              "      <td>5</td>\n",
              "      <td>18.49</td>\n",
              "      <td>461.90</td>\n",
              "      <td>D</td>\n",
              "      <td>D2</td>\n",
              "      <td>219843.0</td>\n",
              "      <td>5.0</td>\n",
              "      <td>0</td>\n",
              "      <td>46000.0</td>\n",
              "      <td>2</td>\n",
              "      <td>2012-08-01</td>\n",
              "      <td>0.0</td>\n",
              "      <td>0</td>\n",
              "      <td>156.0</td>\n",
              "      <td>18</td>\n",
              "      <td>27.83</td>\n",
              "      <td>0.0</td>\n",
              "      <td>700.0</td>\n",
              "      <td>704.0</td>\n",
              "      <td>13.0</td>\n",
              "      <td>0.0</td>\n",
              "      <td>0.0</td>\n",
              "      <td>15096.0</td>\n",
              "      <td>38.9</td>\n",
              "      <td>18.0</td>\n",
              "      <td>1</td>\n",
              "      <td>0</td>\n",
              "      <td>1723.0</td>\n",
              "      <td>1.0</td>\n",
              "      <td>0.0</td>\n",
              "      <td>3.0</td>\n",
              "      <td>5.0</td>\n",
              "      <td>5.0</td>\n",
              "      <td>10.0</td>\n",
              "      <td>7.0</td>\n",
              "      <td>7.0</td>\n",
              "      <td>7.0</td>\n",
              "      <td>13.0</td>\n",
              "      <td>0.0</td>\n",
              "      <td>0.0</td>\n",
              "      <td>0.0</td>\n",
              "      <td>2.0</td>\n",
              "      <td>1888</td>\n",
              "      <td>8</td>\n",
              "      <td>2012</td>\n",
              "      <td>2002</td>\n",
              "      <td>5</td>\n",
              "    </tr>\n",
              "    <tr>\n",
              "      <th>2</th>\n",
              "      <td>2</td>\n",
              "      <td>12000.0</td>\n",
              "      <td>5</td>\n",
              "      <td>16.99</td>\n",
              "      <td>298.17</td>\n",
              "      <td>D</td>\n",
              "      <td>D3</td>\n",
              "      <td>31698.0</td>\n",
              "      <td>8.0</td>\n",
              "      <td>0</td>\n",
              "      <td>74000.0</td>\n",
              "      <td>2</td>\n",
              "      <td>2015-10-01</td>\n",
              "      <td>0.0</td>\n",
              "      <td>0</td>\n",
              "      <td>337.0</td>\n",
              "      <td>14</td>\n",
              "      <td>22.77</td>\n",
              "      <td>0.0</td>\n",
              "      <td>675.0</td>\n",
              "      <td>679.0</td>\n",
              "      <td>11.0</td>\n",
              "      <td>0.0</td>\n",
              "      <td>0.0</td>\n",
              "      <td>4606.0</td>\n",
              "      <td>51.8</td>\n",
              "      <td>27.0</td>\n",
              "      <td>0</td>\n",
              "      <td>0</td>\n",
              "      <td>0.0</td>\n",
              "      <td>1.0</td>\n",
              "      <td>0.0</td>\n",
              "      <td>0.0</td>\n",
              "      <td>3.0</td>\n",
              "      <td>3.0</td>\n",
              "      <td>0.0</td>\n",
              "      <td>0.0</td>\n",
              "      <td>21.0</td>\n",
              "      <td>4.0</td>\n",
              "      <td>5.0</td>\n",
              "      <td>0.0</td>\n",
              "      <td>0.0</td>\n",
              "      <td>0.0</td>\n",
              "      <td>4.0</td>\n",
              "      <td>3044</td>\n",
              "      <td>10</td>\n",
              "      <td>2015</td>\n",
              "      <td>2006</td>\n",
              "      <td>5</td>\n",
              "    </tr>\n",
              "    <tr>\n",
              "      <th>3</th>\n",
              "      <td>3</td>\n",
              "      <td>11000.0</td>\n",
              "      <td>3</td>\n",
              "      <td>7.26</td>\n",
              "      <td>340.96</td>\n",
              "      <td>A</td>\n",
              "      <td>A4</td>\n",
              "      <td>46854.0</td>\n",
              "      <td>10.0</td>\n",
              "      <td>1</td>\n",
              "      <td>118000.0</td>\n",
              "      <td>1</td>\n",
              "      <td>2015-08-01</td>\n",
              "      <td>0.0</td>\n",
              "      <td>4</td>\n",
              "      <td>148.0</td>\n",
              "      <td>11</td>\n",
              "      <td>17.21</td>\n",
              "      <td>0.0</td>\n",
              "      <td>685.0</td>\n",
              "      <td>689.0</td>\n",
              "      <td>9.0</td>\n",
              "      <td>0.0</td>\n",
              "      <td>0.0</td>\n",
              "      <td>9948.0</td>\n",
              "      <td>52.6</td>\n",
              "      <td>28.0</td>\n",
              "      <td>1</td>\n",
              "      <td>0</td>\n",
              "      <td>4.0</td>\n",
              "      <td>1.0</td>\n",
              "      <td>6.0</td>\n",
              "      <td>4.0</td>\n",
              "      <td>6.0</td>\n",
              "      <td>6.0</td>\n",
              "      <td>4.0</td>\n",
              "      <td>16.0</td>\n",
              "      <td>4.0</td>\n",
              "      <td>7.0</td>\n",
              "      <td>21.0</td>\n",
              "      <td>0.0</td>\n",
              "      <td>0.0</td>\n",
              "      <td>0.0</td>\n",
              "      <td>1.0</td>\n",
              "      <td>2983</td>\n",
              "      <td>8</td>\n",
              "      <td>2015</td>\n",
              "      <td>1999</td>\n",
              "      <td>5</td>\n",
              "    </tr>\n",
              "    <tr>\n",
              "      <th>4</th>\n",
              "      <td>4</td>\n",
              "      <td>3000.0</td>\n",
              "      <td>3</td>\n",
              "      <td>12.99</td>\n",
              "      <td>101.07</td>\n",
              "      <td>C</td>\n",
              "      <td>C2</td>\n",
              "      <td>54.0</td>\n",
              "      <td>6.0</td>\n",
              "      <td>1</td>\n",
              "      <td>29000.0</td>\n",
              "      <td>2</td>\n",
              "      <td>2016-03-01</td>\n",
              "      <td>0.0</td>\n",
              "      <td>10</td>\n",
              "      <td>301.0</td>\n",
              "      <td>21</td>\n",
              "      <td>32.16</td>\n",
              "      <td>0.0</td>\n",
              "      <td>690.0</td>\n",
              "      <td>694.0</td>\n",
              "      <td>12.0</td>\n",
              "      <td>0.0</td>\n",
              "      <td>0.0</td>\n",
              "      <td>2942.0</td>\n",
              "      <td>32.0</td>\n",
              "      <td>27.0</td>\n",
              "      <td>0</td>\n",
              "      <td>0</td>\n",
              "      <td>11.0</td>\n",
              "      <td>1.0</td>\n",
              "      <td>1.0</td>\n",
              "      <td>2.0</td>\n",
              "      <td>7.0</td>\n",
              "      <td>7.0</td>\n",
              "      <td>2.0</td>\n",
              "      <td>4.0</td>\n",
              "      <td>9.0</td>\n",
              "      <td>10.0</td>\n",
              "      <td>15.0</td>\n",
              "      <td>0.0</td>\n",
              "      <td>0.0</td>\n",
              "      <td>0.0</td>\n",
              "      <td>4.0</td>\n",
              "      <td>3196</td>\n",
              "      <td>3</td>\n",
              "      <td>2016</td>\n",
              "      <td>1977</td>\n",
              "      <td>8</td>\n",
              "    </tr>\n",
              "  </tbody>\n",
              "</table>\n",
              "</div>"
            ],
            "text/plain": [
              "   id  loanAmnt  term  ...  issueYear  earliesCredit_year earliesCredit_month\n",
              "0   0   35000.0     5  ...       2014                2001                   8\n",
              "1   1   18000.0     5  ...       2012                2002                   5\n",
              "2   2   12000.0     5  ...       2015                2006                   5\n",
              "3   3   11000.0     3  ...       2015                1999                   5\n",
              "4   4    3000.0     3  ...       2016                1977                   8\n",
              "\n",
              "[5 rows x 49 columns]"
            ]
          },
          "metadata": {
            "tags": []
          },
          "execution_count": 17
        }
      ]
    },
    {
      "cell_type": "markdown",
      "metadata": {
        "id": "8QannJpuJQjm",
        "colab_type": "text"
      },
      "source": [
        "## 4. 处理异常值"
      ]
    },
    {
      "cell_type": "code",
      "metadata": {
        "id": "1SpB_2weJQjm",
        "colab_type": "code",
        "colab": {
          "base_uri": "https://localhost:8080/",
          "height": 845
        },
        "outputId": "9d52b06b-e142-4ae5-e52d-74d7f33190e0"
      },
      "source": [
        "# 封装了一个异常值处理的代码，可以随便调用。\n",
        "def outliers_proc(data, col_name, scale=3):\n",
        "    \"\"\"\n",
        "    用于清洗异常值，默认用 box_plot（scale=3）进行清洗\n",
        "    :param data: 接收 pandas 数据格式\n",
        "    :param col_name: pandas 列名\n",
        "    :param scale: 尺度\n",
        "    :return:\n",
        "    \"\"\"\n",
        "\n",
        "    def box_plot_outliers(data_ser, box_scale):\n",
        "        \"\"\"\n",
        "        利用箱线图去除异常值\n",
        "        :param data_ser: 接收 pandas.Series 数据格式\n",
        "        :param box_scale: 箱线图尺度，\n",
        "        :return:\n",
        "        \"\"\"\n",
        "        iqr = box_scale * (data_ser.quantile(0.75) - data_ser.quantile(0.25))\n",
        "        val_low = data_ser.quantile(0.25) - iqr\n",
        "        val_up = data_ser.quantile(0.75) + iqr\n",
        "        rule_low = (data_ser < val_low)\n",
        "        rule_up = (data_ser > val_up)\n",
        "        return (rule_low, rule_up), (val_low, val_up)\n",
        "\n",
        "    data_n = data.copy()\n",
        "    data_series = data_n[col_name]\n",
        "    rule, value = box_plot_outliers(data_series, box_scale=scale)\n",
        "    index = np.arange(data_series.shape[0])[rule[0] | rule[1]]\n",
        "    print(\"Delete number is: {}\".format(len(index)))\n",
        "    data_n = data_n.drop(index)\n",
        "    data_n.reset_index(drop=True, inplace=True)\n",
        "    print(\"Now column number is: {}\".format(data_n.shape[0]))\n",
        "    index_low = np.arange(data_series.shape[0])[rule[0]]\n",
        "    outliers = data_series.iloc[index_low]\n",
        "    print(\"Description of data less than the lower bound is:\")\n",
        "    print(pd.Series(outliers).describe())\n",
        "    index_up = np.arange(data_series.shape[0])[rule[1]]\n",
        "    outliers = data_series.iloc[index_up]\n",
        "    print(\"Description of data larger than the upper bound is:\")\n",
        "    print(pd.Series(outliers).describe())\n",
        "    \n",
        "    fig, ax = plt.subplots(1, 2, figsize=(10, 7))\n",
        "    sns.boxplot(y=data[col_name], data=data, palette=\"Set1\", ax=ax[0])\n",
        "    sns.boxplot(y=data_n[col_name], data=data_n, palette=\"Set1\", ax=ax[1])\n",
        "    return data_n\n",
        "\n",
        "# 删掉一些异常数据，但是要注意 test 的数据不能删\n",
        "data = outliers_proc(data, 'revolBal', scale=3)"
      ],
      "execution_count": 19,
      "outputs": [
        {
          "output_type": "stream",
          "text": [
            "Delete number is: 22802\n",
            "Now column number is: 977198\n",
            "Description of data less than the lower bound is:\n",
            "count    0.0\n",
            "mean     NaN\n",
            "std      NaN\n",
            "min      NaN\n",
            "25%      NaN\n",
            "50%      NaN\n",
            "75%      NaN\n",
            "max      NaN\n",
            "Name: revolBal, dtype: float64\n",
            "Description of data larger than the upper bound is:\n",
            "count    2.280200e+04\n",
            "mean     1.142716e+05\n",
            "std      8.312126e+04\n",
            "min      6.114600e+04\n",
            "25%      7.082950e+04\n",
            "50%      8.767200e+04\n",
            "75%      1.255055e+05\n",
            "max      2.904836e+06\n",
            "Name: revolBal, dtype: float64\n"
          ],
          "name": "stdout"
        },
        {
          "output_type": "stream",
          "text": [
            "findfont: Font family ['SimHei'] not found. Falling back to DejaVu Sans.\n"
          ],
          "name": "stderr"
        },
        {
          "output_type": "display_data",
          "data": {
            "image/png": "[encoded data removed]",
            "text/plain": [
              "<Figure size 720x504 with 2 Axes>"
            ]
          },
          "metadata": {
            "tags": [],
            "needs_background": "light"
          }
        }
      ]
    },
    {
      "cell_type": "code",
      "metadata": {
        "id": "bFeeO3txfjgg",
        "colab_type": "code",
        "colab": {}
      },
      "source": [
        "# When we reset the index, the old index is added as a column, and a new sequential index is used:\n",
        "\n",
        "# df.reset_index()\n",
        "#     index   class  max_speed\n",
        "# 0  falcon    bird      389.0\n",
        "# 1  parrot    bird       24.0\n",
        "# 2    lion  mammal       80.5\n",
        "# 3  monkey  mammal        NaN\n",
        "# We can use the drop parameter to avoid the old index being added as a column:\n",
        "\n",
        "# df.reset_index(drop=True)\n",
        "#     class  max_speed\n",
        "# 0    bird      389.0\n",
        "# 1    bird       24.0\n",
        "# 2  mammal       80.5\n",
        "# 3  mammal        NaN"
      ],
      "execution_count": null,
      "outputs": []
    },
    {
      "cell_type": "code",
      "metadata": {
        "id": "mz1DsCnDdUY8",
        "colab_type": "code",
        "colab": {
          "base_uri": "https://localhost:8080/",
          "height": 305
        },
        "outputId": "83a77690-2fae-4ade-8849-bb450c1a78c2"
      },
      "source": [
        "testpd.sort_index(ascending=True)\n",
        "# df.sort_index(ascending=False)\n",
        "testpd.head()"
      ],
      "execution_count": 34,
      "outputs": [
        {
          "output_type": "execute_result",
          "data": {
            "text/html": [
              "<div>\n",
              "<style scoped>\n",
              "    .dataframe tbody tr th:only-of-type {\n",
              "        vertical-align: middle;\n",
              "    }\n",
              "\n",
              "    .dataframe tbody tr th {\n",
              "        vertical-align: top;\n",
              "    }\n",
              "\n",
              "    .dataframe thead th {\n",
              "        text-align: right;\n",
              "    }\n",
              "</style>\n",
              "<table border=\"1\" class=\"dataframe\">\n",
              "  <thead>\n",
              "    <tr style=\"text-align: right;\">\n",
              "      <th></th>\n",
              "      <th>id</th>\n",
              "      <th>loanAmnt</th>\n",
              "      <th>term</th>\n",
              "      <th>interestRate</th>\n",
              "      <th>installment</th>\n",
              "      <th>grade</th>\n",
              "      <th>subGrade</th>\n",
              "      <th>employmentTitle</th>\n",
              "      <th>employmentLength</th>\n",
              "      <th>homeOwnership</th>\n",
              "      <th>annualIncome</th>\n",
              "      <th>verificationStatus</th>\n",
              "      <th>issueDate</th>\n",
              "      <th>purpose</th>\n",
              "      <th>postCode</th>\n",
              "      <th>regionCode</th>\n",
              "      <th>dti</th>\n",
              "      <th>delinquency_2years</th>\n",
              "      <th>ficoRangeLow</th>\n",
              "      <th>ficoRangeHigh</th>\n",
              "      <th>openAcc</th>\n",
              "      <th>pubRec</th>\n",
              "      <th>pubRecBankruptcies</th>\n",
              "      <th>revolBal</th>\n",
              "      <th>revolUtil</th>\n",
              "      <th>totalAcc</th>\n",
              "      <th>initialListStatus</th>\n",
              "      <th>applicationType</th>\n",
              "      <th>earliesCreditLine</th>\n",
              "      <th>title</th>\n",
              "      <th>policyCode</th>\n",
              "      <th>n0</th>\n",
              "      <th>n1</th>\n",
              "      <th>n2</th>\n",
              "      <th>n3</th>\n",
              "      <th>n4</th>\n",
              "      <th>n5</th>\n",
              "      <th>n6</th>\n",
              "      <th>n7</th>\n",
              "      <th>n8</th>\n",
              "      <th>n9</th>\n",
              "      <th>n10</th>\n",
              "      <th>n11</th>\n",
              "      <th>n12</th>\n",
              "      <th>n13</th>\n",
              "      <th>n14</th>\n",
              "    </tr>\n",
              "  </thead>\n",
              "  <tbody>\n",
              "    <tr>\n",
              "      <th>0</th>\n",
              "      <td>800000</td>\n",
              "      <td>14000.0</td>\n",
              "      <td>3</td>\n",
              "      <td>10.99</td>\n",
              "      <td>458.28</td>\n",
              "      <td>B</td>\n",
              "      <td>B3</td>\n",
              "      <td>7027.0</td>\n",
              "      <td>10+ years</td>\n",
              "      <td>0</td>\n",
              "      <td>80000.0</td>\n",
              "      <td>0</td>\n",
              "      <td>2014-07-01</td>\n",
              "      <td>0</td>\n",
              "      <td>163.0</td>\n",
              "      <td>21</td>\n",
              "      <td>10.56</td>\n",
              "      <td>1.0</td>\n",
              "      <td>715.0</td>\n",
              "      <td>719.0</td>\n",
              "      <td>17.0</td>\n",
              "      <td>0.0</td>\n",
              "      <td>0.0</td>\n",
              "      <td>9846.0</td>\n",
              "      <td>30.7</td>\n",
              "      <td>29.0</td>\n",
              "      <td>0</td>\n",
              "      <td>0</td>\n",
              "      <td>Nov-1974</td>\n",
              "      <td>0.0</td>\n",
              "      <td>1.0</td>\n",
              "      <td>1.0</td>\n",
              "      <td>4.0</td>\n",
              "      <td>6.0</td>\n",
              "      <td>6.0</td>\n",
              "      <td>6.0</td>\n",
              "      <td>8.0</td>\n",
              "      <td>4.0</td>\n",
              "      <td>15.0</td>\n",
              "      <td>19.0</td>\n",
              "      <td>6.0</td>\n",
              "      <td>17.0</td>\n",
              "      <td>0.0</td>\n",
              "      <td>0.0</td>\n",
              "      <td>1.0</td>\n",
              "      <td>3.0</td>\n",
              "    </tr>\n",
              "    <tr>\n",
              "      <th>1</th>\n",
              "      <td>800001</td>\n",
              "      <td>20000.0</td>\n",
              "      <td>5</td>\n",
              "      <td>14.65</td>\n",
              "      <td>472.14</td>\n",
              "      <td>C</td>\n",
              "      <td>C5</td>\n",
              "      <td>60426.0</td>\n",
              "      <td>10+ years</td>\n",
              "      <td>0</td>\n",
              "      <td>50000.0</td>\n",
              "      <td>0</td>\n",
              "      <td>2015-07-01</td>\n",
              "      <td>2</td>\n",
              "      <td>235.0</td>\n",
              "      <td>8</td>\n",
              "      <td>21.40</td>\n",
              "      <td>2.0</td>\n",
              "      <td>670.0</td>\n",
              "      <td>674.0</td>\n",
              "      <td>5.0</td>\n",
              "      <td>0.0</td>\n",
              "      <td>0.0</td>\n",
              "      <td>8946.0</td>\n",
              "      <td>56.6</td>\n",
              "      <td>14.0</td>\n",
              "      <td>0</td>\n",
              "      <td>0</td>\n",
              "      <td>Jul-2001</td>\n",
              "      <td>5.0</td>\n",
              "      <td>1.0</td>\n",
              "      <td>2.0</td>\n",
              "      <td>1.0</td>\n",
              "      <td>3.0</td>\n",
              "      <td>3.0</td>\n",
              "      <td>1.0</td>\n",
              "      <td>1.0</td>\n",
              "      <td>3.0</td>\n",
              "      <td>3.0</td>\n",
              "      <td>9.0</td>\n",
              "      <td>3.0</td>\n",
              "      <td>5.0</td>\n",
              "      <td>0.0</td>\n",
              "      <td>0.0</td>\n",
              "      <td>2.0</td>\n",
              "      <td>2.0</td>\n",
              "    </tr>\n",
              "    <tr>\n",
              "      <th>2</th>\n",
              "      <td>800002</td>\n",
              "      <td>12000.0</td>\n",
              "      <td>3</td>\n",
              "      <td>19.99</td>\n",
              "      <td>445.91</td>\n",
              "      <td>D</td>\n",
              "      <td>D4</td>\n",
              "      <td>23547.0</td>\n",
              "      <td>2 years</td>\n",
              "      <td>1</td>\n",
              "      <td>60000.0</td>\n",
              "      <td>2</td>\n",
              "      <td>2016-10-01</td>\n",
              "      <td>0</td>\n",
              "      <td>526.0</td>\n",
              "      <td>20</td>\n",
              "      <td>33.50</td>\n",
              "      <td>0.0</td>\n",
              "      <td>710.0</td>\n",
              "      <td>714.0</td>\n",
              "      <td>12.0</td>\n",
              "      <td>0.0</td>\n",
              "      <td>0.0</td>\n",
              "      <td>970.0</td>\n",
              "      <td>17.6</td>\n",
              "      <td>43.0</td>\n",
              "      <td>1</td>\n",
              "      <td>0</td>\n",
              "      <td>Aug-2006</td>\n",
              "      <td>0.0</td>\n",
              "      <td>1.0</td>\n",
              "      <td>0.0</td>\n",
              "      <td>1.0</td>\n",
              "      <td>4.0</td>\n",
              "      <td>4.0</td>\n",
              "      <td>1.0</td>\n",
              "      <td>1.0</td>\n",
              "      <td>36.0</td>\n",
              "      <td>5.0</td>\n",
              "      <td>6.0</td>\n",
              "      <td>4.0</td>\n",
              "      <td>12.0</td>\n",
              "      <td>0.0</td>\n",
              "      <td>0.0</td>\n",
              "      <td>0.0</td>\n",
              "      <td>7.0</td>\n",
              "    </tr>\n",
              "    <tr>\n",
              "      <th>3</th>\n",
              "      <td>800003</td>\n",
              "      <td>17500.0</td>\n",
              "      <td>5</td>\n",
              "      <td>14.31</td>\n",
              "      <td>410.02</td>\n",
              "      <td>C</td>\n",
              "      <td>C4</td>\n",
              "      <td>636.0</td>\n",
              "      <td>4 years</td>\n",
              "      <td>0</td>\n",
              "      <td>37000.0</td>\n",
              "      <td>1</td>\n",
              "      <td>2014-11-01</td>\n",
              "      <td>4</td>\n",
              "      <td>248.0</td>\n",
              "      <td>11</td>\n",
              "      <td>13.95</td>\n",
              "      <td>0.0</td>\n",
              "      <td>685.0</td>\n",
              "      <td>689.0</td>\n",
              "      <td>10.0</td>\n",
              "      <td>1.0</td>\n",
              "      <td>1.0</td>\n",
              "      <td>10249.0</td>\n",
              "      <td>52.3</td>\n",
              "      <td>18.0</td>\n",
              "      <td>0</td>\n",
              "      <td>0</td>\n",
              "      <td>Jul-2002</td>\n",
              "      <td>4.0</td>\n",
              "      <td>1.0</td>\n",
              "      <td>0.0</td>\n",
              "      <td>2.0</td>\n",
              "      <td>2.0</td>\n",
              "      <td>2.0</td>\n",
              "      <td>4.0</td>\n",
              "      <td>7.0</td>\n",
              "      <td>2.0</td>\n",
              "      <td>8.0</td>\n",
              "      <td>14.0</td>\n",
              "      <td>2.0</td>\n",
              "      <td>10.0</td>\n",
              "      <td>0.0</td>\n",
              "      <td>0.0</td>\n",
              "      <td>0.0</td>\n",
              "      <td>3.0</td>\n",
              "    </tr>\n",
              "    <tr>\n",
              "      <th>4</th>\n",
              "      <td>800004</td>\n",
              "      <td>35000.0</td>\n",
              "      <td>3</td>\n",
              "      <td>17.09</td>\n",
              "      <td>1249.42</td>\n",
              "      <td>D</td>\n",
              "      <td>D1</td>\n",
              "      <td>368446.0</td>\n",
              "      <td>&lt; 1 year</td>\n",
              "      <td>1</td>\n",
              "      <td>80000.0</td>\n",
              "      <td>1</td>\n",
              "      <td>2017-10-01</td>\n",
              "      <td>0</td>\n",
              "      <td>115.0</td>\n",
              "      <td>8</td>\n",
              "      <td>24.97</td>\n",
              "      <td>0.0</td>\n",
              "      <td>685.0</td>\n",
              "      <td>689.0</td>\n",
              "      <td>19.0</td>\n",
              "      <td>0.0</td>\n",
              "      <td>0.0</td>\n",
              "      <td>33199.0</td>\n",
              "      <td>35.6</td>\n",
              "      <td>22.0</td>\n",
              "      <td>0</td>\n",
              "      <td>0</td>\n",
              "      <td>Dec-2000</td>\n",
              "      <td>0.0</td>\n",
              "      <td>1.0</td>\n",
              "      <td>0.0</td>\n",
              "      <td>8.0</td>\n",
              "      <td>11.0</td>\n",
              "      <td>11.0</td>\n",
              "      <td>9.0</td>\n",
              "      <td>11.0</td>\n",
              "      <td>3.0</td>\n",
              "      <td>16.0</td>\n",
              "      <td>18.0</td>\n",
              "      <td>11.0</td>\n",
              "      <td>19.0</td>\n",
              "      <td>0.0</td>\n",
              "      <td>0.0</td>\n",
              "      <td>0.0</td>\n",
              "      <td>1.0</td>\n",
              "    </tr>\n",
              "  </tbody>\n",
              "</table>\n",
              "</div>"
            ],
            "text/plain": [
              "       id  loanAmnt  term  interestRate  installment  ...   n10  n11  n12  n13  n14\n",
              "0  800000   14000.0     3         10.99       458.28  ...  17.0  0.0  0.0  1.0  3.0\n",
              "1  800001   20000.0     5         14.65       472.14  ...   5.0  0.0  0.0  2.0  2.0\n",
              "2  800002   12000.0     3         19.99       445.91  ...  12.0  0.0  0.0  0.0  7.0\n",
              "3  800003   17500.0     5         14.31       410.02  ...  10.0  0.0  0.0  0.0  3.0\n",
              "4  800004   35000.0     3         17.09      1249.42  ...  19.0  0.0  0.0  0.0  1.0\n",
              "\n",
              "[5 rows x 46 columns]"
            ]
          },
          "metadata": {
            "tags": []
          },
          "execution_count": 34
        }
      ]
    },
    {
      "cell_type": "markdown",
      "metadata": {
        "id": "A27GtB0EJQjq",
        "colab_type": "text"
      },
      "source": [
        "## 5. 增加统计特征"
      ]
    },
    {
      "cell_type": "code",
      "metadata": {
        "id": "NmMl-ZGKJQjr",
        "colab_type": "code",
        "colab": {}
      },
      "source": [
        "# LabelEncoder编码\n",
        "from sklearn.preprocessing import LabelEncoder\n",
        "encoder_list = ['grade', 'subGrade','employmentTitle', 'postCode', 'title','regionCode']\n",
        "for one in encoder_list:\n",
        "    encoder = LabelEncoder()\n",
        "    encoder.fit(data[one])\n",
        "    data[one] = encoder.transform(data[one])"
      ],
      "execution_count": 24,
      "outputs": []
    },
    {
      "cell_type": "code",
      "metadata": {
        "id": "kUMBIaBuJQjx",
        "colab_type": "code",
        "colab": {}
      },
      "source": [
        "bin = [i*100 for i in range(1, 410, 10)]\n",
        "data['loanAmnt_bin'] = pd.cut(data['loanAmnt'], bin, labels=False)\n",
        "\n",
        "bin = [i for i in range(0, 34, 3)]\n",
        "data['interestRate_bin'] = pd.cut(data['interestRate'], bin, labels=False)\n",
        "\n",
        "max_income = data['annualIncome'].max()\n",
        "bin = [0, 10**3, 10**4, 5*(10**4), 10**5, 3*(10**5), 6*(10**5), 10**6, 3*(10**6), 6*(10**6), max_income+1]\n",
        "data['annualIncome_bin'] = pd.cut(data['annualIncome'], bin, labels=False, include_lowest=True, right=False)\n",
        "#   with out right=False  (1.0, 3.0]\n",
        "#   with right=False      [1, 3)\n",
        "data['installment_bin'] = pd.cut(data['installment'], 40, labels=False)\n",
        "\n",
        "bin = [-1.0, 2.0, 5.0, 40]\n",
        "data['delinquency_2years_bin'] = pd.cut(data['delinquency_2years'], bin, labels=False)\n",
        "\n",
        "bin = [-1.1, 5, 10, 20, 30, 40, 50, 1000]\n",
        "data['dti_bin'] = pd.cut(data['dti'], bin, labels=False, include_lowest=True, right=False)\n",
        "\n",
        "def count_coding(df, features):\n",
        "    for col in features:\n",
        "        tmp = df.groupby([col]).count()['id'].to_dict()\n",
        "        df[col + '_count'] = data[col].apply(lambda x: tmp[x] if not np.isnan(x) else np.nan)\n",
        "    return df\n",
        "\n",
        "# def count_coding(df,fea_col):\n",
        "#     for fea in fea_col:\n",
        "#         df[fea + '_count'] = df[fea].map(df[fea].value_counts())\n",
        "#     return(df)\n",
        "        \n",
        "features_list = ['grade', 'subGrade','term', 'employmentLength',\n",
        "                 'loanAmnt_bin','interestRate_bin', 'annualIncome_bin', 'installment_bin',\n",
        "                 'delinquency_2years_bin','dti_bin']\n",
        "\n",
        "data = count_coding(data, features_list)"
      ],
      "execution_count": 74,
      "outputs": []
    },
    {
      "cell_type": "code",
      "metadata": {
        "id": "RbzQAJw0f4ig",
        "colab_type": "code",
        "colab": {
          "base_uri": "https://localhost:8080/",
          "height": 135
        },
        "outputId": "86fe1b97-c134-4cd6-ae87-baddbef14865"
      },
      "source": [
        "# for i in range(1, 410, 10):\n",
        "#   print(i*100)\n",
        "# pd.cut(np.array([1, 7, 5, 4, 6, 3]), 3)\n",
        "# np.array([1, 7, 5, 4, 6, 3])\n"
      ],
      "execution_count": 68,
      "outputs": [
        {
          "output_type": "error",
          "ename": "SyntaxError",
          "evalue": "ignored",
          "traceback": [
            "\u001b[0;36m  File \u001b[0;32m\"<ipython-input-68-b4f520a90c8c>\"\u001b[0;36m, line \u001b[0;32m6\u001b[0m\n\u001b[0;31m    a = pd.cut([100, 1000, 10000, 50000, 49999, 3], bintest, labels=False, right=False)  #return the bins\u001b[0m\n\u001b[0m    ^\u001b[0m\n\u001b[0;31mSyntaxError\u001b[0m\u001b[0;31m:\u001b[0m invalid syntax\n"
          ]
        }
      ]
    },
    {
      "cell_type": "code",
      "metadata": {
        "id": "Vcp_d48Hlgto",
        "colab_type": "code",
        "colab": {
          "base_uri": "https://localhost:8080/",
          "height": 35
        },
        "outputId": "f06f8979-15f7-435e-e3bb-49c2f804c345"
      },
      "source": [
        "# pd.cut(np.array([1, 7, 5, 4, 6, 3]),\n",
        "#        3, labels=[\"bad\", \"medium\", \"good\"])\n",
        "bb = np.array([100, 1000, 10000, 50000, 49999, 3])\n",
        "bb"
      ],
      "execution_count": 69,
      "outputs": [
        {
          "output_type": "execute_result",
          "data": {
            "text/plain": [
              "array([  100,  1000, 10000, 50000, 49999,     3])"
            ]
          },
          "metadata": {
            "tags": []
          },
          "execution_count": 69
        }
      ]
    },
    {
      "cell_type": "code",
      "metadata": {
        "id": "FerF9BaymHa3",
        "colab_type": "code",
        "colab": {
          "base_uri": "https://localhost:8080/",
          "height": 54
        },
        "outputId": "20515a25-184c-41dc-df63-e1cc027a3450"
      },
      "source": [
        "# pd.cut([0, 1, 1, 2], bins=4, labels=False)\n",
        "# pd.cut([0, 1, 1, 2], bins=4, labels=[\"bad\", \"medium\", \"good\", \"very good\"])\n",
        "bintest = [1, 3, 5, 7, 9]\n",
        "pd.cut(np.array([1, 7, 5, 4, 6, 3]), bintest, right=False)"
      ],
      "execution_count": 72,
      "outputs": [
        {
          "output_type": "execute_result",
          "data": {
            "text/plain": [
              "[[1, 3), [7, 9), [5, 7), [3, 5), [5, 7), [3, 5)]\n",
              "Categories (4, interval[int64]): [[1, 3) < [3, 5) < [5, 7) < [7, 9)]"
            ]
          },
          "metadata": {
            "tags": []
          },
          "execution_count": 72
        }
      ]
    },
    {
      "cell_type": "markdown",
      "metadata": {
        "id": "unb2CHXttRVV",
        "colab_type": "text"
      },
      "source": [
        "id        item        color\n",
        "01        truck       red\n",
        "\n",
        "*   List item\n",
        "*   List item\n",
        "\n",
        "\n",
        "02        truck       red\n",
        "03        car         black\n",
        "04        truck       blue\n",
        "05        car         black"
      ]
    },
    {
      "cell_type": "code",
      "metadata": {
        "id": "N5UDy3ejgR1Q",
        "colab_type": "code",
        "colab": {
          "base_uri": "https://localhost:8080/",
          "height": 35
        },
        "outputId": "5f8b32c6-68fe-4b6c-e4fa-6edd654baefc"
      },
      "source": [
        "df = pd.DataFrame([('bird', 389.0),\n",
        "                   ('bird', 24.0),\n",
        "                   ('mammal', 80.5),\n",
        "                   ('mammal', np.nan)],\n",
        "                  index=['falcon', 'parrot', 'lion', 'monkey'],\n",
        "                  columns=('class', 'max_speed'))\n",
        "df2 = pd.DataFrame([(1, 'truck',       'red'),\n",
        "                   (2,       'truck',       'red'),\n",
        "                   (3,        'car',         'black'),\n",
        "                   (4, 'truck', 'blue'),\n",
        "                   (5,'car',    'black')],\n",
        "                  columns=('id','class', 'max_speed'))\n",
        "df2.groupby(['class']).count()['id'].to_dict()\n"
      ],
      "execution_count": 93,
      "outputs": [
        {
          "output_type": "execute_result",
          "data": {
            "text/plain": [
              "{'car': 2, 'truck': 3}"
            ]
          },
          "metadata": {
            "tags": []
          },
          "execution_count": 93
        }
      ]
    },
    {
      "cell_type": "markdown",
      "metadata": {
        "id": "Gktra1MOJQj0",
        "colab_type": "text"
      },
      "source": [
        "## 6. 特征交叉"
      ]
    },
    {
      "cell_type": "code",
      "metadata": {
        "id": "AUUtbjccJQj1",
        "colab_type": "code",
        "colab": {}
      },
      "source": [
        "# 对匿名特征做特征交叉\n",
        "n_features = [0,1,2,4,5,6,7,8,11,12,13,14]\n",
        "for i in n_features:\n",
        "    for j in n_features[i:]:\n",
        "        data['new' + str(i) + '+' + str(j)] = data['n' + str(i)] + data['n' + str(j)]\n",
        "        \n",
        "for i in n_features:\n",
        "    for j in n_features[i:]:\n",
        "        data['new' + str(i) + '*' + str(j)] = data['n' + str(i)] * data['n' + str(j)]        "
      ],
      "execution_count": 76,
      "outputs": []
    },
    {
      "cell_type": "code",
      "metadata": {
        "id": "Ts8cWEOGJQj7",
        "colab_type": "code",
        "colab": {}
      },
      "source": [
        "import itertools\n",
        "\n",
        "corr = data.corr(method='spearman')\n",
        "feature_group = list(itertools.combinations(corr.columns, 2))\n",
        "print(feature_group)\n",
        "\n",
        "# 删除相关性高的变量\n",
        "def filter_corr(corr, cutoff=0.7):\n",
        "    cols = []\n",
        "    for i,j in feature_group:\n",
        "        if corr.loc[i, j] > cutoff:\n",
        "            print(i,j,corr.loc[i, j])\n",
        "            i_avg = corr[i][corr[i] != 1].mean()\n",
        "            j_avg = corr[j][corr[j] != 1].mean()\n",
        "            if i_avg >= j_avg:\n",
        "                cols.append(i)\n",
        "            else:\n",
        "                cols.append(j)\n",
        "    return set(cols)\n",
        "\n",
        "drop_cols = filter_corr(corr, cutoff=0.95)\n",
        "print(drop_cols)"
      ],
      "execution_count": null,
      "outputs": []
    },
    {
      "cell_type": "markdown",
      "metadata": {
        "id": "PltfzdyeJQkE",
        "colab_type": "text"
      },
      "source": [
        "## 7. 特征编码"
      ]
    },
    {
      "cell_type": "code",
      "metadata": {
        "id": "_ernQgfCJQkF",
        "colab_type": "code",
        "colab": {},
        "outputId": "e9387e04-f701-40d1-9d5a-b47e02d01656"
      },
      "source": [
        "# LabelEncoder编码\n",
        "# from sklearn.preprocessing import LabelEncoder\n",
        "# encoder_list = ['grade', 'subGrade','employmentTitle', 'postCode', 'title','regionCode']\n",
        "# for one in encoder_list:\n",
        "#     encoder = LabelEncoder()\n",
        "#     encoder.fit(data[one])\n",
        "#     data[one] = encoder.transform(data[one])\n",
        "    \n",
        "# 独热编码\n",
        "data = pd.get_dummies(data, columns=['homeOwnership', 'verificationStatus', 'purpose'])\n",
        "data.columns"
      ],
      "execution_count": null,
      "outputs": [
        {
          "output_type": "execute_result",
          "data": {
            "text/plain": [
              "Index(['annualIncome', 'applicationType', 'delinquency_2years', 'dti',\n",
              "       'employmentLength', 'employmentTitle', 'ficoRangeHigh', 'ficoRangeLow',\n",
              "       'grade', 'id', 'initialListStatus', 'installment', 'interestRate',\n",
              "       'isDefault', 'issueDate', 'loanAmnt', 'n0', 'n1', 'n11', 'n12', 'n13',\n",
              "       'n14', 'n2', 'n4', 'n5', 'n6', 'n7', 'n8', 'openAcc', 'policyCode',\n",
              "       'postCode', 'pubRec', 'pubRecBankruptcies', 'regionCode', 'revolBal',\n",
              "       'revolUtil', 'subGrade', 'term', 'title', 'totalAcc', 'issueDateDT',\n",
              "       'issueMonth', 'issueYear', 'earliesCredit_year', 'earliesCredit_month',\n",
              "       'loanAmnt_bin', 'interestRate_bin', 'annualIncome_bin',\n",
              "       'installment_bin', 'delinquency_2years_bin', 'dti_bin', 'grade_count',\n",
              "       'subGrade_count', 'term_count', 'employmentLength_count',\n",
              "       'loanAmnt_bin_count', 'interestRate_bin_count',\n",
              "       'annualIncome_bin_count', 'installment_bin_count',\n",
              "       'delinquency_2years_bin_count', 'dti_bin_count', 'homeOwnership_0',\n",
              "       'homeOwnership_1', 'homeOwnership_2', 'homeOwnership_3',\n",
              "       'homeOwnership_4', 'homeOwnership_5', 'verificationStatus_0',\n",
              "       'verificationStatus_1', 'verificationStatus_2', 'purpose_0',\n",
              "       'purpose_1', 'purpose_2', 'purpose_3', 'purpose_4', 'purpose_5',\n",
              "       'purpose_6', 'purpose_7', 'purpose_8', 'purpose_9', 'purpose_10',\n",
              "       'purpose_11', 'purpose_12', 'purpose_13'],\n",
              "      dtype='object')"
            ]
          },
          "metadata": {
            "tags": []
          },
          "execution_count": 16
        }
      ]
    },
    {
      "cell_type": "markdown",
      "metadata": {
        "id": "Xgpcj8e7JQkK",
        "colab_type": "text"
      },
      "source": [
        "## 8、特征选择\n",
        "包裹式"
      ]
    },
    {
      "cell_type": "code",
      "metadata": {
        "id": "lJBdYGIJJQkL",
        "colab_type": "code",
        "colab": {},
        "outputId": "90a2c2c1-8b5e-4c70-808a-f715b166bcc7"
      },
      "source": [
        "data.info()"
      ],
      "execution_count": null,
      "outputs": [
        {
          "output_type": "stream",
          "text": [
            "<class 'pandas.core.frame.DataFrame'>\n",
            "RangeIndex: 1000000 entries, 0 to 999999\n",
            "Data columns (total 84 columns):\n",
            "annualIncome                    1000000 non-null float64\n",
            "applicationType                 1000000 non-null int64\n",
            "delinquency_2years              1000000 non-null float64\n",
            "dti                             1000000 non-null float64\n",
            "employmentLength                1000000 non-null float64\n",
            "employmentTitle                 1000000 non-null int64\n",
            "ficoRangeHigh                   1000000 non-null float64\n",
            "ficoRangeLow                    1000000 non-null float64\n",
            "grade                           1000000 non-null int64\n",
            "id                              1000000 non-null int64\n",
            "initialListStatus               1000000 non-null int64\n",
            "installment                     1000000 non-null float64\n",
            "interestRate                    1000000 non-null float64\n",
            "isDefault                       1000000 non-null float64\n",
            "issueDate                       1000000 non-null datetime64[ns]\n",
            "loanAmnt                        1000000 non-null float64\n",
            "n0                              1000000 non-null float64\n",
            "n1                              1000000 non-null float64\n",
            "n11                             1000000 non-null float64\n",
            "n12                             1000000 non-null float64\n",
            "n13                             1000000 non-null float64\n",
            "n14                             1000000 non-null float64\n",
            "n2                              1000000 non-null float64\n",
            "n4                              1000000 non-null float64\n",
            "n5                              1000000 non-null float64\n",
            "n6                              1000000 non-null float64\n",
            "n7                              1000000 non-null float64\n",
            "n8                              1000000 non-null float64\n",
            "openAcc                         1000000 non-null float64\n",
            "policyCode                      1000000 non-null float64\n",
            "postCode                        1000000 non-null int64\n",
            "pubRec                          1000000 non-null float64\n",
            "pubRecBankruptcies              1000000 non-null float64\n",
            "regionCode                      1000000 non-null int64\n",
            "revolBal                        1000000 non-null float64\n",
            "revolUtil                       1000000 non-null float64\n",
            "subGrade                        1000000 non-null int64\n",
            "term                            1000000 non-null int64\n",
            "title                           1000000 non-null int64\n",
            "totalAcc                        1000000 non-null float64\n",
            "issueDateDT                     1000000 non-null int64\n",
            "issueMonth                      1000000 non-null int64\n",
            "issueYear                       1000000 non-null int64\n",
            "earliesCredit_year              1000000 non-null int64\n",
            "earliesCredit_month             1000000 non-null int64\n",
            "loanAmnt_bin                    1000000 non-null int64\n",
            "interestRate_bin                1000000 non-null int64\n",
            "annualIncome_bin                1000000 non-null int64\n",
            "installment_bin                 1000000 non-null int64\n",
            "delinquency_2years_bin          1000000 non-null int64\n",
            "dti_bin                         1000000 non-null int64\n",
            "grade_count                     1000000 non-null int64\n",
            "subGrade_count                  1000000 non-null int64\n",
            "term_count                      1000000 non-null int64\n",
            "employmentLength_count          1000000 non-null int64\n",
            "loanAmnt_bin_count              1000000 non-null int64\n",
            "interestRate_bin_count          1000000 non-null int64\n",
            "annualIncome_bin_count          1000000 non-null int64\n",
            "installment_bin_count           1000000 non-null int64\n",
            "delinquency_2years_bin_count    1000000 non-null int64\n",
            "dti_bin_count                   1000000 non-null int64\n",
            "homeOwnership_0                 1000000 non-null uint8\n",
            "homeOwnership_1                 1000000 non-null uint8\n",
            "homeOwnership_2                 1000000 non-null uint8\n",
            "homeOwnership_3                 1000000 non-null uint8\n",
            "homeOwnership_4                 1000000 non-null uint8\n",
            "homeOwnership_5                 1000000 non-null uint8\n",
            "verificationStatus_0            1000000 non-null uint8\n",
            "verificationStatus_1            1000000 non-null uint8\n",
            "verificationStatus_2            1000000 non-null uint8\n",
            "purpose_0                       1000000 non-null uint8\n",
            "purpose_1                       1000000 non-null uint8\n",
            "purpose_2                       1000000 non-null uint8\n",
            "purpose_3                       1000000 non-null uint8\n",
            "purpose_4                       1000000 non-null uint8\n",
            "purpose_5                       1000000 non-null uint8\n",
            "purpose_6                       1000000 non-null uint8\n",
            "purpose_7                       1000000 non-null uint8\n",
            "purpose_8                       1000000 non-null uint8\n",
            "purpose_9                       1000000 non-null uint8\n",
            "purpose_10                      1000000 non-null uint8\n",
            "purpose_11                      1000000 non-null uint8\n",
            "purpose_12                      1000000 non-null uint8\n",
            "purpose_13                      1000000 non-null uint8\n",
            "dtypes: datetime64[ns](1), float64(29), int64(31), uint8(23)\n",
            "memory usage: 487.3 MB\n"
          ],
          "name": "stdout"
        }
      ]
    },
    {
      "cell_type": "code",
      "metadata": {
        "id": "LIAJaX2_JQkQ",
        "colab_type": "code",
        "colab": {}
      },
      "source": [
        "train = data[:train.shape[0]]\n",
        "X = train.drop(['isDefault','issueDate'], axis=1)\n",
        "y = train['isDefault']"
      ],
      "execution_count": null,
      "outputs": []
    },
    {
      "cell_type": "code",
      "metadata": {
        "id": "fNQDuNQ4JQkc",
        "colab_type": "code",
        "colab": {},
        "outputId": "9a339948-f79f-48d7-cf47-7add3a85eadd"
      },
      "source": [
        "# k_feature 太大会很难跑，没服务器，所以放弃\n",
        "from mlxtend.feature_selection import SequentialFeatureSelector as SFS\n",
        "from sklearn.linear_model import LogisticRegression\n",
        "sfs = SFS(LogisticRegression(),\n",
        "           k_features=10,\n",
        "           forward=True,\n",
        "           floating=False,\n",
        "           scoring = 'roc_auc',\n",
        "           cv = 0)\n",
        "sfs.fit(X, y)\n",
        "sfs.k_feature_names_ "
      ],
      "execution_count": null,
      "outputs": [
        {
          "output_type": "execute_result",
          "data": {
            "text/plain": [
              "('dti',\n",
              " 'ficoRangeHigh',\n",
              " 'n14',\n",
              " 'n2',\n",
              " 'subGrade',\n",
              " 'term',\n",
              " 'issueDateDT',\n",
              " 'annualIncome_bin',\n",
              " 'installment_bin',\n",
              " 'homeOwnership_0')"
            ]
          },
          "metadata": {
            "tags": []
          },
          "execution_count": 25
        }
      ]
    },
    {
      "cell_type": "code",
      "metadata": {
        "id": "3GW2XmV4JQki",
        "colab_type": "code",
        "colab": {},
        "outputId": "2abe9329-0e18-49ed-eeca-fbe9dcc4cd54"
      },
      "source": [
        "from sklearn import metrics\n",
        "print(metrics.SCORERS.keys())"
      ],
      "execution_count": null,
      "outputs": [
        {
          "output_type": "stream",
          "text": [
            "dict_keys(['explained_variance', 'r2', 'max_error', 'neg_median_absolute_error', 'neg_mean_absolute_error', 'neg_mean_squared_error', 'neg_mean_squared_log_error', 'accuracy', 'roc_auc', 'balanced_accuracy', 'average_precision', 'neg_log_loss', 'brier_score_loss', 'adjusted_rand_score', 'homogeneity_score', 'completeness_score', 'v_measure_score', 'mutual_info_score', 'adjusted_mutual_info_score', 'normalized_mutual_info_score', 'fowlkes_mallows_score', 'precision', 'precision_macro', 'precision_micro', 'precision_samples', 'precision_weighted', 'recall', 'recall_macro', 'recall_micro', 'recall_samples', 'recall_weighted', 'f1', 'f1_macro', 'f1_micro', 'f1_samples', 'f1_weighted', 'jaccard', 'jaccard_macro', 'jaccard_micro', 'jaccard_samples', 'jaccard_weighted'])\n"
          ],
          "name": "stdout"
        }
      ]
    },
    {
      "cell_type": "code",
      "metadata": {
        "id": "HYDzAoedJQkq",
        "colab_type": "code",
        "colab": {},
        "outputId": "dad573a3-de83-48eb-d9a7-ffdee7e243cc"
      },
      "source": [
        "# 画出来，可以看到边际效益\n",
        "from mlxtend.plotting import plot_sequential_feature_selection as plot_sfs\n",
        "import matplotlib.pyplot as plt\n",
        "fig1 = plot_sfs(sfs.get_metric_dict(), kind='std_dev')\n",
        "plt.grid()\n",
        "plt.show()"
      ],
      "execution_count": null,
      "outputs": [
        {
          "output_type": "stream",
          "text": [
            "findfont: Font family ['sans-serif'] not found. Falling back to DejaVu Sans.\n",
            "findfont: Font family ['sans-serif'] not found. Falling back to DejaVu Sans.\n"
          ],
          "name": "stderr"
        },
        {
          "output_type": "display_data",
          "data": {
            "image/png": "[encoded data removed]",
            "text/plain": [
              "<Figure size 432x288 with 1 Axes>"
            ]
          },
          "metadata": {
            "tags": [],
            "needs_background": "light"
          }
        }
      ]
    },
    {
      "cell_type": "markdown",
      "metadata": {
        "id": "cTF5p3prJQkt",
        "colab_type": "text"
      },
      "source": [
        "嵌入式"
      ]
    },
    {
      "cell_type": "code",
      "metadata": {
        "id": "ICNicDqaJQku",
        "colab_type": "code",
        "colab": {},
        "outputId": "80ca4adb-361e-449e-9c1b-72b37059fd7b"
      },
      "source": [
        "from sklearn.feature_selection import SelectFromModel\n",
        "from sklearn.ensemble import GradientBoostingClassifier\n",
        "# GBDT作为基模型的特征选择\n",
        "sfm = SelectFromModel(GradientBoostingClassifier())\n",
        "sfm.fit(X, y)\n",
        "n_selected_feats = sfm.transform(X).shape[1]\n",
        "n_selected_feats"
      ],
      "execution_count": null,
      "outputs": [
        {
          "output_type": "execute_result",
          "data": {
            "text/plain": [
              "15"
            ]
          },
          "metadata": {
            "tags": []
          },
          "execution_count": 28
        }
      ]
    },
    {
      "cell_type": "markdown",
      "metadata": {
        "id": "J14UPld_JQkw",
        "colab_type": "text"
      },
      "source": [
        "## 9. 特征归一化"
      ]
    },
    {
      "cell_type": "code",
      "metadata": {
        "id": "H4aTzhhzJQkx",
        "colab_type": "code",
        "colab": {}
      },
      "source": [
        "label = 'isDefault'\n",
        "numerical_features_all.remove(label)\n",
        "\n",
        "# 划分数值型变量中的连续变量和离散型变量\n",
        "def get_numerical_serial_fea(data,feas):\n",
        "    numerical_serial_fea = []\n",
        "    numerical_noserial_fea = []\n",
        "    for fea in feas:\n",
        "        temp = data[fea].nunique()\n",
        "        if temp <= 10:\n",
        "            numerical_noserial_fea.append(fea)\n",
        "            continue\n",
        "        numerical_serial_fea.append(fea)\n",
        "    return numerical_serial_fea, numerical_noserial_fea\n",
        "\n",
        "numerical_serial_fea, numerical_noserial_fea = get_numerical_serial_fea(data, numerical_features_all)\n",
        "\n",
        "cate_features = ['grade', 'subGrade', 'employmentTitle', 'homeOwnership', 'verificationStatus', 'purpose', 'postCode', 'regionCode', \\\n",
        "                 'applicationType', 'initialListStatus', 'title', 'policyCode']\n",
        "for f in cate_features:\n",
        "    print(f, '类型数：', data[f].nunique())"
      ],
      "execution_count": null,
      "outputs": []
    },
    {
      "cell_type": "code",
      "metadata": {
        "id": "7IB-vXjvJQk0",
        "colab_type": "code",
        "colab": {}
      },
      "source": [
        "from sklearn.preprocessing import StandardScaler\n",
        "from sklearn.preprocessing import MinMaxScaler\n",
        "\n",
        "for col in numerical_serial_fea:\n",
        "    min_max_scaler = MinMaxScaler()\n",
        "    min_max_scaler.fit_transform(pd.DataFrame(data=data[col], columns=[col]))"
      ],
      "execution_count": null,
      "outputs": []
    },
    {
      "cell_type": "markdown",
      "metadata": {
        "id": "jcw8gcZeJQk4",
        "colab_type": "text"
      },
      "source": [
        "## 10. 保存处理好的特征"
      ]
    },
    {
      "cell_type": "code",
      "metadata": {
        "id": "Yw2ePN88JQk4",
        "colab_type": "code",
        "colab": {}
      },
      "source": [
        "train = data[:train.shape[0]]\n",
        "test = data[train.shape[0]:]\n",
        "train.to_csv('../train_data_v1.csv', index=False)\n",
        "test.to_csv('../test_data_v1.csv', index=False)"
      ],
      "execution_count": null,
      "outputs": []
    }
  ]
}